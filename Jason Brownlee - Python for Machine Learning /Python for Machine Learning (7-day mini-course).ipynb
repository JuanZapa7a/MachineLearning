{
 "cells": [
  {
   "cell_type": "markdown",
   "metadata": {},
   "source": [
    "# Python for Machine Learning (7-day mini-course)\n",
    "\n",
    "Python is an amazing programming language. Not only it is widely used in machine\n",
    "learning projects, you can also find its presence in system tools, web projects,\n",
    "and many others. Having good Python skills can make you work more efficiently\n",
    "because it is famous for its simplicity. You can try out your idea faster. You\n",
    "can also present your idea in a concise code in Python.\n",
    "\n",
    "As a practitioner, you are not required to know how the language is built, but\n",
    "you should know that the language can help you in various tasks. You can see how\n",
    "concise a Python code can be, and how much the functions from its libraries can\n",
    "do.\n",
    "\n",
    "In this crash course, you will discover some common Python techniques, from\n",
    "doing the exercises in seven days.\n",
    "\n",
    "This is a big and important post. You might want to bookmark it.\n",
    "\n",
    "Let’s get started."
   ]
  },
  {
   "cell_type": "markdown",
   "metadata": {},
   "source": [
    "## Who Is This Crash-Course For?\n",
    "\n",
    "Before you get started, let’s make sure you are in the right place.\n",
    "\n",
    "This course is for developers who may know some programming. Maybe you know another language, or you may be able to write a few lines of code in Python to do something simple.\n",
    "\n",
    "The lessons in this course do assume a few things about you, such as:\n",
    "\n",
    "  * You know your way around basic Python.\n",
    "  * You understand the basic programming concepts, such as variables, arrays, loops, and functions.\n",
    "  * You can work with Python in command line or inside an IDE.\n",
    "\n",
    "You do NOT need to be:\n",
    "\n",
    "  * A star programmer\n",
    "  * A Python expert\n",
    "\n",
    "This crash course can help you transform from a novice programmer to an expert\n",
    "who can code comfortably in Python.\n",
    "\n",
    "This crash course assumes you have a working Python 3.7 environment installed.\n",
    "If you need help with your environment, you can follow the step-by-step tutorial\n",
    "here:\n",
    "\n",
    "  * [How to Set Up Your Python Environment for Machine Learning With Anaconda](https://machinelearningmastery.com/setup-python-environment-machine-learning-deep-learning-anaconda/)\n",
    "  * [How to Set Up Your Python Environment for Machine Learning With virtualenvwrapper](https://medium.com/egrasps/setup-a-python-environment-from-basic-for-machine-learning-856a09caf60f)\n"
   ]
  },
  {
   "cell_type": "markdown",
   "metadata": {},
   "source": [
    "## Crash-Course Overview\n",
    "\n",
    "This crash course is broken down into seven lessons.\n",
    "\n",
    "You could complete one lesson per day (recommended) or complete all of the\n",
    "lessons in one day (hardcore). It really depends on the time you have available\n",
    "and your level of enthusiasm.\n",
    "\n",
    "Below is a list of the seven lessons that will get you started and productive with Python:\n",
    "\n",
    "*    Lesson 01: Manipulating lists\n",
    "*    Lesson 02: Dictionaries\n",
    "*    Lesson 03: Tuples\n",
    "*    Lesson 04: Strings\n",
    "*    Lesson 05: List comprehension\n",
    "*    Lesson 06: Enumerate and zip\n",
    "*    Lesson 07: Map, filter, and reduce\n",
    "\n",
    "Each lesson could take you between 5 and up to 30 minutes. Take your time and\n",
    "complete the lessons at your own pace. Ask questions, and even post results in\n",
    "the comments online.\n",
    "\n",
    "The lessons might expect you to go off and find out how to do things. This guide\n",
    "will give you hints, but part of the point of each lesson is to force you to\n",
    "learn where to go to look for help with and about the algorithms and the\n",
    "best-of-breed tools in Python.\n",
    "\n",
    "**Post your results in the comments**; I’ll cheer you on!\n",
    "\n",
    "Hang in there; don’t give up."
   ]
  },
  {
   "cell_type": "markdown",
   "metadata": {},
   "source": [
    "## Lesson 01: Manipulating lists\n",
    "\n",
    "In this lesson, you will discover a basic data structures in Python, the list.\n",
    "\n",
    "In other programming languages, there are arrays. The counterpart in Python is\n",
    "**list**. A Python list does not limit the number of elements it stores. You can\n",
    "always append elements into it, and it will automatically expand its size.\n",
    "Python list also does not require its elements to be in the same type. You can\n",
    "mix and match different elements into a list.\n",
    "\n",
    "In the following, we create a list of some integers, and then append a string\n",
    "into it:"
   ]
  },
  {
   "cell_type": "code",
   "execution_count": 5,
   "metadata": {},
   "outputs": [
    {
     "name": "stdout",
     "output_type": "stream",
     "text": [
      "[1, 2, 3, \"that's all\"]\n"
     ]
    }
   ],
   "source": [
    "x = [1, 2, 3]\n",
    "x.append(\"that's all\")\n",
    "print(x)"
   ]
  },
  {
   "cell_type": "markdown",
   "metadata": {},
   "source": [
    "Python lists are zero-indexed. Namely, to get the first element in the above\n",
    "list, we do:"
   ]
  },
  {
   "cell_type": "code",
   "execution_count": 6,
   "metadata": {},
   "outputs": [
    {
     "name": "stdout",
     "output_type": "stream",
     "text": [
      "1\n"
     ]
    }
   ],
   "source": [
    "print(x[0])"
   ]
  },
  {
   "cell_type": "markdown",
   "metadata": {},
   "source": [
    "This will print 1 to the screen.\n",
    "\n",
    "Python lists allow negative indices to mean counting elements from the back. So\n",
    "the way to print the last element from the above list is:"
   ]
  },
  {
   "cell_type": "code",
   "execution_count": 7,
   "metadata": {},
   "outputs": [
    {
     "name": "stdout",
     "output_type": "stream",
     "text": [
      "that's all\n"
     ]
    }
   ],
   "source": [
    "print(x[-1])"
   ]
  },
  {
   "cell_type": "markdown",
   "metadata": {},
   "source": [
    "Python also has a handy syntax to find a slice of a list. To print the last two\n",
    "elements, we do:"
   ]
  },
  {
   "cell_type": "code",
   "execution_count": 8,
   "metadata": {},
   "outputs": [
    {
     "name": "stdout",
     "output_type": "stream",
     "text": [
      "[3, \"that's all\"]\n"
     ]
    }
   ],
   "source": [
    "print(x[-2:])"
   ]
  },
  {
   "cell_type": "markdown",
   "metadata": {},
   "source": [
    "Usually, the slice syntax is `start:end:step` where the end is not included in the\n",
    "result. If omitted, the default will be the first element as the start and the\n",
    "one beyond the end of the entire list as the end. We can also use the slice\n",
    "syntax to make a step. For example, this is how we can extract even and odd\n",
    "numbers:"
   ]
  },
  {
   "cell_type": "code",
   "execution_count": 9,
   "metadata": {},
   "outputs": [
    {
     "name": "stdout",
     "output_type": "stream",
     "text": [
      "[1, 3, 5, 7, 9]\n",
      "[2, 4, 6, 8, 10]\n"
     ]
    }
   ],
   "source": [
    "x = [1, 2, 3, 4, 5, 6, 7, 8, 9, 10]\n",
    "odd = x[::2]\n",
    "even = x[1::2]\n",
    "print(odd)\n",
    "print(even)"
   ]
  },
  {
   "cell_type": "markdown",
   "metadata": {},
   "source": [
    "## Your Task\n",
    "\n",
    "In the above example of getting odd numbers from a list of 1 to 10, you can make\n",
    "a step size of -2 to ask the list go backward. How can you use the slicing\n",
    "syntax to print [9,7,5,3,1]? How about [7,5,3]?\n",
    "\n",
    "Post your answer in the comments below. I would love to see what you come up\n",
    "with.\n",
    "\n",
    "In the next lesson, you will discover the Python dictionary."
   ]
  },
  {
   "cell_type": "code",
   "execution_count": 340,
   "metadata": {},
   "outputs": [
    {
     "name": "stdout",
     "output_type": "stream",
     "text": [
      "[9, 7, 5, 3, 1]\n",
      "[7, 5, 3]\n"
     ]
    }
   ],
   "source": [
    "x = [1, 2, 3, 4, 5, 6, 7, 8, 9, 10]\n",
    "first = x[-2::-2]\n",
    "second = x[-4:1:-2]\n",
    "print(first)\n",
    "print(second)"
   ]
  },
  {
   "cell_type": "markdown",
   "metadata": {},
   "source": [
    "## Lesson 02: Dictionaries\n",
    "\n",
    "In this lesson, you will learn Python’s way of storing a mapping.\n",
    "\n",
    "Similar to Perl, an associative array is also a native data structure in Python.\n",
    "It is called a dictionary or dict. Python uses square brackets [] for list and\n",
    "uses curly brackets {} for dict. A Python dict is for key-value mapping, but the\n",
    "key must be **hashable**, such as a number or a string. Hence we can do the\n",
    "following:"
   ]
  },
  {
   "cell_type": "code",
   "execution_count": 11,
   "metadata": {},
   "outputs": [
    {
     "name": "stdout",
     "output_type": "stream",
     "text": [
      "apple costs $ 1.5\n"
     ]
    }
   ],
   "source": [
    "price = {\n",
    "    \"apple\": 1.5,\n",
    "    \"orange\": 1.25,\n",
    "    \"banana\": 0.5\n",
    "}\n",
    "print(\"apple costs $\", price[\"apple\"])"
   ]
  },
  {
   "cell_type": "markdown",
   "metadata": {},
   "source": [
    "Adding a key-value mapping to a dict is similar to indexing a list:"
   ]
  },
  {
   "cell_type": "code",
   "execution_count": 342,
   "metadata": {},
   "outputs": [
    {
     "name": "stdout",
     "output_type": "stream",
     "text": [
      "lemon costs $ 0.6\n"
     ]
    }
   ],
   "source": [
    "price[\"lemon\"] = 0.6\n",
    "print(\"lemon costs $\", price[\"lemon\"])"
   ]
  },
  {
   "cell_type": "markdown",
   "metadata": {},
   "source": [
    "We can check if a key is in a dict using the `in` operator, for\n",
    "example:"
   ]
  },
  {
   "cell_type": "code",
   "execution_count": 15,
   "metadata": {},
   "outputs": [
    {
     "name": "stdout",
     "output_type": "stream",
     "text": [
      "strawberry costs $ 1\n"
     ]
    }
   ],
   "source": [
    "if \"strawberry\" in price:\n",
    "    print(\"strawberry costs $\", price[\"strawberry\"])\n",
    "else:\n",
    "    # if price is not found, assume $1\n",
    "    price[\"strawberry\"] = 1\n",
    "    print(\"strawberry costs $\", price[\"strawberry\"])"
   ]
  },
  {
   "cell_type": "markdown",
   "metadata": {},
   "source": [
    "But in Python dict, we can use the `get()` function to give us a\n",
    "default value if the key is not found:"
   ]
  },
  {
   "cell_type": "code",
   "execution_count": 26,
   "metadata": {},
   "outputs": [
    {
     "name": "stdout",
     "output_type": "stream",
     "text": [
      "grapes costs $ 3\n"
     ]
    }
   ],
   "source": [
    "print(\"grapes costs $\", price.get(\"grapes\", 3))"
   ]
  },
  {
   "cell_type": "markdown",
   "metadata": {},
   "source": [
    "But indeed, you are not required to provide a default to `get()`. If\n",
    "you omitted it, it will return `None`. For example:"
   ]
  },
  {
   "cell_type": "code",
   "execution_count": 25,
   "metadata": {},
   "outputs": [
    {
     "name": "stdout",
     "output_type": "stream",
     "text": [
      "kiwi costs $ None\n"
     ]
    }
   ],
   "source": [
    "print(\"kiwi costs $\", price.get(\"kiwi\"))"
   ]
  },
  {
   "cell_type": "markdown",
   "metadata": {},
   "source": [
    "Since the Python dict is a key-value mapping, we can extract only the keys or\n",
    "only the values, using:"
   ]
  },
  {
   "cell_type": "code",
   "execution_count": 24,
   "metadata": {},
   "outputs": [
    {
     "name": "stdout",
     "output_type": "stream",
     "text": [
      "['apple', 'orange', 'banana', 'strawberry']\n",
      "[1.5, 1.25, 0.5, 1]\n"
     ]
    }
   ],
   "source": [
    "fruits = list(price.keys())\n",
    "numbers = list(price.values())\n",
    "print(fruits)\n",
    "print(numbers)"
   ]
  },
  {
   "cell_type": "markdown",
   "metadata": {},
   "source": [
    "We used `list()` to convert the keys or values to a list for better printing.\n",
    "\n",
    "The other way to manipulate a list is with the `items()` function. Its result\n",
    "would be key-value pairs:"
   ]
  },
  {
   "cell_type": "code",
   "execution_count": 28,
   "metadata": {},
   "outputs": [
    {
     "name": "stdout",
     "output_type": "stream",
     "text": [
      "[('apple', 1.5), ('orange', 1.25), ('banana', 0.5), ('strawberry', 1)]\n"
     ]
    }
   ],
   "source": [
    "pairs = list(price.items())\n",
    "print(pairs)"
   ]
  },
  {
   "cell_type": "markdown",
   "metadata": {},
   "source": [
    "Since they are pairs in a list, we can use list manipulation syntax to combine\n",
    "items from two dicts and produce a combined dict. The following is an example:"
   ]
  },
  {
   "cell_type": "code",
   "execution_count": 29,
   "metadata": {},
   "outputs": [
    {
     "name": "stdout",
     "output_type": "stream",
     "text": [
      "{'apple': 1.5, 'orange': 1.25, 'strawberry': 1.0, 'banana': 0.5}\n"
     ]
    }
   ],
   "source": [
    "price1 = {\n",
    "    \"apple\": 1.5,\n",
    "    \"orange\": 1.25,\n",
    "    \"strawberry\": 1.0\n",
    "}\n",
    "price2 = {\n",
    "    \"banana\": 0.5\n",
    "}\n",
    "pairs1 = list(price1.items())\n",
    "pairs2 = list(price2.items())\n",
    "price = dict(pairs1 + pairs2)\n",
    "print(price)"
   ]
  },
  {
   "cell_type": "markdown",
   "metadata": {},
   "source": [
    "## Your Task\n",
    "\n",
    "Depending on your version of Python, the last example above can have a\n",
    "simplified syntax:"
   ]
  },
  {
   "cell_type": "code",
   "execution_count": 30,
   "metadata": {},
   "outputs": [
    {
     "ename": "TypeError",
     "evalue": "unsupported operand type(s) for |: 'dict' and 'dict'",
     "output_type": "error",
     "traceback": [
      "\u001b[0;31m---------------------------------------------------------------------------\u001b[0m",
      "\u001b[0;31mTypeError\u001b[0m                                 Traceback (most recent call last)",
      "\u001b[0;32m/tmp/ipykernel_115551/1213875885.py\u001b[0m in \u001b[0;36m<module>\u001b[0;34m\u001b[0m\n\u001b[0;32m----> 1\u001b[0;31m \u001b[0mprice\u001b[0m \u001b[0;34m=\u001b[0m \u001b[0mprice1\u001b[0m \u001b[0;34m|\u001b[0m \u001b[0mprice2\u001b[0m\u001b[0;34m\u001b[0m\u001b[0;34m\u001b[0m\u001b[0m\n\u001b[0m\u001b[1;32m      2\u001b[0m \u001b[0mprice\u001b[0m \u001b[0;34m=\u001b[0m \u001b[0;34m{\u001b[0m\u001b[0;34m**\u001b[0m\u001b[0mprice1\u001b[0m\u001b[0;34m,\u001b[0m \u001b[0;34m**\u001b[0m\u001b[0mprice2\u001b[0m\u001b[0;34m}\u001b[0m\u001b[0;34m\u001b[0m\u001b[0;34m\u001b[0m\u001b[0m\n",
      "\u001b[0;31mTypeError\u001b[0m: unsupported operand type(s) for |: 'dict' and 'dict'"
     ]
    }
   ],
   "source": [
    "price = price1 | price2\n",
    "price = {**price1, **price2}"
   ]
  },
  {
   "cell_type": "markdown",
   "metadata": {},
   "source": [
    "Check in your installation if you can reproduce the same result as the last\n",
    "example.\n",
    "\n",
    "In the next lesson, you will discover the tuple as a read-only list."
   ]
  },
  {
   "cell_type": "markdown",
   "metadata": {},
   "source": [
    "## Lesson 03: Tuples\n",
    "\n",
    "In this lesson, you will learn the tuple as a read-only data structure.\n",
    "\n",
    "Python has a list that behaves like an array of mixed data. A Python tuple is\n",
    "very much like a list, but it cannot be modified after it is created. It is\n",
    "**immutable**. Creating a tuple is just like creating a list, except using\n",
    "parentheses, ():"
   ]
  },
  {
   "cell_type": "code",
   "execution_count": 31,
   "metadata": {},
   "outputs": [],
   "source": [
    "x = (1, 2, 3)"
   ]
  },
  {
   "cell_type": "markdown",
   "metadata": {},
   "source": [
    "You can refer to the first element as x[0] just like the case of a list. But you\n",
    "cannot assign a new value to x[0] because a tuple is immutable. If you try to do\n",
    "it, Python will throw a TypeError with the reason that the tuple does not\n",
    "support the item assignment.\n",
    "\n",
    "A tuple is handy to represent multiple return values of a function. For example,\n",
    "the following function produces a value’s multiple powers as a tuple:"
   ]
  },
  {
   "cell_type": "code",
   "execution_count": 32,
   "metadata": {},
   "outputs": [
    {
     "name": "stdout",
     "output_type": "stream",
     "text": [
      "(2, 4, 8)\n"
     ]
    }
   ],
   "source": [
    "def powers(n):\n",
    "    return n, n**2, n**3\n",
    "x = powers(2)\n",
    "print(x)"
   ]
  },
  {
   "cell_type": "markdown",
   "metadata": {},
   "source": [
    "which is a tuple. But we usually use the unpacking syntax:"
   ]
  },
  {
   "cell_type": "code",
   "execution_count": 33,
   "metadata": {},
   "outputs": [],
   "source": [
    "itself, squared, cubed = powers(2)"
   ]
  },
  {
   "cell_type": "markdown",
   "metadata": {},
   "source": [
    "In fact, this is a powerful syntax in Python in which we can assign multiple\n",
    "variables in one line. For example,"
   ]
  },
  {
   "cell_type": "code",
   "execution_count": null,
   "metadata": {},
   "outputs": [],
   "source": [
    "count, elements = 0, []"
   ]
  },
  {
   "cell_type": "markdown",
   "metadata": {},
   "source": [
    "This will assign variable `count` to integer 0 and variable `elements` to an empty list. Because of the unpacking syntax, this is the **Pythonic** way of swapping the value of two variables:\n",
    "\n",
    "`a, b = b, a`"
   ]
  },
  {
   "cell_type": "markdown",
   "metadata": {},
   "source": [
    "## Your Task\n",
    "\n",
    "Consider a list of tuples:"
   ]
  },
  {
   "cell_type": "code",
   "execution_count": 34,
   "metadata": {},
   "outputs": [],
   "source": [
    "x = [(\"alpha\", 0.5), (\"gamma\", 0.1), (\"beta\", 1.1), (\"alpha\", -3)]"
   ]
  },
  {
   "cell_type": "markdown",
   "metadata": {},
   "source": [
    "You can sort this list using `sorted(x)`. What is the result? From the result of\n",
    "comparing tuples, how does Python understand which tuple is less than or greater\n",
    "than another? Which is greater, the tuple `(\"alpha\", 0.5)` or the tuple\n",
    "`(\"alpha\", 0.5, 1)`?\n",
    "\n",
    "Post your answer in the comments below. I would love to see what you come up\n",
    "with.\n",
    "\n",
    "In the next lesson, you will learn about Python strings."
   ]
  },
  {
   "cell_type": "code",
   "execution_count": null,
   "metadata": {},
   "outputs": [
    {
     "data": {
      "text/plain": [
       "[('alpha', -3), ('alpha', 0.5), ('beta', 1.1), ('gamma', 0.1)]"
      ]
     },
     "execution_count": 247,
     "metadata": {},
     "output_type": "execute_result"
    }
   ],
   "source": [
    "sorted(x)"
   ]
  },
  {
   "cell_type": "code",
   "execution_count": null,
   "metadata": {},
   "outputs": [
    {
     "data": {
      "text/plain": [
       "[('alpha', 0.5), ('alpha', 0.5, 1)]"
      ]
     },
     "execution_count": 248,
     "metadata": {},
     "output_type": "execute_result"
    }
   ],
   "source": [
    "x = [(\"alpha\", 0.5), (\"alpha\", 0.5, 1)]\n",
    "sorted(x)"
   ]
  },
  {
   "cell_type": "markdown",
   "metadata": {},
   "source": [
    "## Lesson 04: Strings\n",
    "\n",
    "In this lesson, you will learn about creating and using strings in Python.\n",
    "\n",
    "A string is the basic way of storing text in Python. All Python strings are\n",
    "unicode strings, meaning you can put unicode into it. For example:"
   ]
  },
  {
   "cell_type": "code",
   "execution_count": 35,
   "metadata": {},
   "outputs": [
    {
     "name": "stdout",
     "output_type": "stream",
     "text": [
      "Hello 😀\n"
     ]
    }
   ],
   "source": [
    "x = \"Hello 😀\"\n",
    "print(x)"
   ]
  },
  {
   "cell_type": "markdown",
   "metadata": {},
   "source": [
    "The smiley is a unicode character of code point 0x1F600. Python string comes\n",
    "with a lot of functions. For example, we can check if a string begins or ends\n",
    "with a substring using:"
   ]
  },
  {
   "cell_type": "code",
   "execution_count": 36,
   "metadata": {},
   "outputs": [
    {
     "name": "stdout",
     "output_type": "stream",
     "text": [
      "x starts with Hello\n",
      "x does not end with World\n"
     ]
    }
   ],
   "source": [
    "if x.startswith(\"Hello\"):\n",
    "    print(\"x starts with Hello\")\n",
    "if not x.endswith(\"World\"):\n",
    "    print(\"x does not end with World\")"
   ]
  },
  {
   "cell_type": "markdown",
   "metadata": {},
   "source": [
    "Then to check whether a string contains a substring, use the “in” operator:"
   ]
  },
  {
   "cell_type": "code",
   "execution_count": null,
   "metadata": {},
   "outputs": [
    {
     "name": "stdout",
     "output_type": "stream",
     "text": [
      "x contains double-l\n"
     ]
    }
   ],
   "source": [
    "if \"ll\" in x:\n",
    "    print(\"x contains double-l\")"
   ]
  },
  {
   "cell_type": "markdown",
   "metadata": {},
   "source": [
    "There is a lot more. Such as `split()` to split a string, or `upper()` to convert\n",
    "the entire string into uppercase.\n",
    "\n",
    "One special property of Python strings is the implicit concatenation. All of the\n",
    "following produce the string \"hello world\":"
   ]
  },
  {
   "cell_type": "code",
   "execution_count": null,
   "metadata": {},
   "outputs": [
    {
     "name": "stdout",
     "output_type": "stream",
     "text": [
      "hello world\n",
      "hello world\n",
      "hello world\n"
     ]
    }
   ],
   "source": [
    "x1 = \"hel\" \\\n",
    "  \"lo world\"\n",
    "x2 = \"hello\" \" world\"\n",
    "x3 = (\"hello \"\n",
    "    \"world\")\n",
    "print(x1)\n",
    "print(x2)\n",
    "print(x3)"
   ]
  },
  {
   "cell_type": "markdown",
   "metadata": {},
   "source": [
    "The rule is, Python will normally use `\\` as a line continuation. But if Python\n",
    "sees two strings placed together without anything separating them, the strings\n",
    "will be concatenated. Hence the first example above is to concatenate \"hel\" with\n",
    "\"lo world\". Likewise, the last example concatenated two strings because they are\n",
    "placed inside parentheses.\n",
    "\n",
    "A Python string can also be created using a template. It is often seen in\n",
    "`print()` functions. For example, below all produce \"hello world\" for variable y:"
   ]
  },
  {
   "cell_type": "code",
   "execution_count": null,
   "metadata": {},
   "outputs": [
    {
     "name": "stdout",
     "output_type": "stream",
     "text": [
      "hello world\n",
      "hello world\n",
      "hello world\n"
     ]
    }
   ],
   "source": [
    "x = \"world\"\n",
    "y1 = \"hello %s\" % x\n",
    "y2 = \"hello {}\".format(x)\n",
    "y3 = f\"hello {x}\"\n",
    "print(y1)\n",
    "print(y2)\n",
    "print(y3)"
   ]
  },
  {
   "cell_type": "markdown",
   "metadata": {},
   "source": [
    "## Your Task\n",
    "\n",
    "Try to run this code:"
   ]
  },
  {
   "cell_type": "code",
   "execution_count": null,
   "metadata": {},
   "outputs": [
    {
     "name": "stdout",
     "output_type": "stream",
     "text": [
      "latitude 51.507200, longitude -0.127600\n",
      "latitude 51.5072, longitude -0.1276\n"
     ]
    }
   ],
   "source": [
    "coord = {\"lat\": 51.5072, \"lon\": -0.1276}\n",
    "print(\"latitude %(lat)f, longitude %(lon)f\" % coord)\n",
    "print(\"latitude {lat}, longitude {lon}\".format(**coord))"
   ]
  },
  {
   "cell_type": "markdown",
   "metadata": {},
   "source": [
    "This is to fill a template using a dictionary. The first uses the `%-syntax`\n",
    "while the second uses `format()` syntax. Can you modify the code above to print\n",
    "only 2 decimal places? Hints: Check out\n",
    "https://docs.python.org/3/library/string.html!\n",
    "\n",
    "Post your answer in the comments below. I would love to see what you come up\n",
    "with.\n",
    "\n",
    "In the next lesson, you will discover list comprehension syntax in Python."
   ]
  },
  {
   "cell_type": "code",
   "execution_count": null,
   "metadata": {},
   "outputs": [
    {
     "name": "stdout",
     "output_type": "stream",
     "text": [
      "latitude 51.51, longitude -0.13\n",
      "latitude 51.51, longitude -0.13\n"
     ]
    }
   ],
   "source": [
    "print(\"latitude %(lat).2f, longitude %(lon).2f\" % coord)\n",
    "print(\"latitude {lat:.2f}, longitude {lon:.2f}\".format(**coord))"
   ]
  },
  {
   "cell_type": "markdown",
   "metadata": {},
   "source": [
    "## Lesson 05: List Comprehension\n",
    "\n",
    "In this lesson, you will see how list comprehension syntax can build a list on\n",
    "the fly.\n",
    "\n",
    "The famous fizz-buzz problem prints 1 to 100 with all 3-multiples replaced with\n",
    "“fizz,” all 5-multiples replaced with “buzz,” and if a number is both a multiple\n",
    "of 3 and 5, print “fizzbuzz.” You can make a for loop and some if statements to\n",
    "do this. But we can also do it in one line:"
   ]
  },
  {
   "cell_type": "code",
   "execution_count": 37,
   "metadata": {},
   "outputs": [
    {
     "name": "stdout",
     "output_type": "stream",
     "text": [
      "1\n",
      "2\n",
      "fizz\n",
      "4\n",
      "buzz\n",
      "fizz\n",
      "7\n",
      "8\n",
      "fizz\n",
      "buzz\n",
      "11\n",
      "fizz\n",
      "13\n",
      "14\n",
      "fizzbuzz\n",
      "16\n",
      "17\n",
      "fizz\n",
      "19\n",
      "buzz\n",
      "fizz\n",
      "22\n",
      "23\n",
      "fizz\n",
      "buzz\n",
      "26\n",
      "fizz\n",
      "28\n",
      "29\n",
      "fizzbuzz\n",
      "31\n",
      "32\n",
      "fizz\n",
      "34\n",
      "buzz\n",
      "fizz\n",
      "37\n",
      "38\n",
      "fizz\n",
      "buzz\n",
      "41\n",
      "fizz\n",
      "43\n",
      "44\n",
      "fizzbuzz\n",
      "46\n",
      "47\n",
      "fizz\n",
      "49\n",
      "buzz\n",
      "fizz\n",
      "52\n",
      "53\n",
      "fizz\n",
      "buzz\n",
      "56\n",
      "fizz\n",
      "58\n",
      "59\n",
      "fizzbuzz\n",
      "61\n",
      "62\n",
      "fizz\n",
      "64\n",
      "buzz\n",
      "fizz\n",
      "67\n",
      "68\n",
      "fizz\n",
      "buzz\n",
      "71\n",
      "fizz\n",
      "73\n",
      "74\n",
      "fizzbuzz\n",
      "76\n",
      "77\n",
      "fizz\n",
      "79\n",
      "buzz\n",
      "fizz\n",
      "82\n",
      "83\n",
      "fizz\n",
      "buzz\n",
      "86\n",
      "fizz\n",
      "88\n",
      "89\n",
      "fizzbuzz\n",
      "91\n",
      "92\n",
      "fizz\n",
      "94\n",
      "buzz\n",
      "fizz\n",
      "97\n",
      "98\n",
      "fizz\n",
      "buzz\n"
     ]
    }
   ],
   "source": [
    "numbers = [\"fizzbuzz\" if n%15==0 else \"fizz\" if n%3==0 else \"buzz\" if n%5==0 else str(n) for n in range(1,101)]\n",
    "print(\"\\n\".join(numbers))"
   ]
  },
  {
   "cell_type": "markdown",
   "metadata": {},
   "source": [
    "We set up the list numbers using list comprehension syntax. The syntax looks\n",
    "like a list but with a `for` inside. Before the keyword for, we define how each\n",
    "element in the list will be created.\n",
    "\n",
    "List comprehension can be more complicated. For example, this is how to produce\n",
    "all multiples of 3 from 1 to 100:"
   ]
  },
  {
   "cell_type": "code",
   "execution_count": 39,
   "metadata": {},
   "outputs": [
    {
     "name": "stdout",
     "output_type": "stream",
     "text": [
      "[3, 6, 9, 12, 15, 18, 21, 24, 27, 30, 33, 36, 39, 42, 45, 48, 51, 54, 57, 60, 63, 66, 69, 72, 75, 78, 81, 84, 87, 90, 93, 96, 99]\n"
     ]
    }
   ],
   "source": [
    "mul3 = [n for n in range(1,101) if n%3 == 0]\n",
    "print(mul3)"
   ]
  },
  {
   "cell_type": "markdown",
   "metadata": {},
   "source": [
    "And this is how we can print a 10x10 multiplication table:"
   ]
  },
  {
   "cell_type": "code",
   "execution_count": 44,
   "metadata": {},
   "outputs": [
    {
     "name": "stdout",
     "output_type": "stream",
     "text": [
      "[1, 2, 3, 4, 5, 6, 7, 8, 9, 10]\n",
      "[2, 4, 6, 8, 10, 12, 14, 16, 18, 20]\n",
      "[3, 6, 9, 12, 15, 18, 21, 24, 27, 30]\n",
      "[4, 8, 12, 16, 20, 24, 28, 32, 36, 40]\n",
      "[5, 10, 15, 20, 25, 30, 35, 40, 45, 50]\n",
      "[6, 12, 18, 24, 30, 36, 42, 48, 54, 60]\n",
      "[7, 14, 21, 28, 35, 42, 49, 56, 63, 70]\n",
      "[8, 16, 24, 32, 40, 48, 56, 64, 72, 80]\n",
      "[9, 18, 27, 36, 45, 54, 63, 72, 81, 90]\n",
      "[10, 20, 30, 40, 50, 60, 70, 80, 90, 100]\n"
     ]
    }
   ],
   "source": [
    "table = [[m*n for n in range(1,11)] for m in range(1,11)]\n",
    "for row in table:\n",
    "    print(row)"
   ]
  },
  {
   "cell_type": "markdown",
   "metadata": {},
   "source": [
    "And this is how we can combine strings:"
   ]
  },
  {
   "cell_type": "code",
   "execution_count": 45,
   "metadata": {},
   "outputs": [
    {
     "name": "stdout",
     "output_type": "stream",
     "text": [
      "['northeast', 'northwest', 'north', 'southeast', 'southwest', 'south', 'east', 'west']\n"
     ]
    }
   ],
   "source": [
    "directions = [a+b for a in [\"north\", \"south\", \"\"] for b in [\"east\", \"west\", \"\"] if not (a==\"\" and b==\"\")]\n",
    "print(directions)"
   ]
  },
  {
   "cell_type": "markdown",
   "metadata": {},
   "source": [
    "## Your Task\n",
    "\n",
    "Python also has a dictionary comprehension. The syntax is:"
   ]
  },
  {
   "cell_type": "code",
   "execution_count": null,
   "metadata": {},
   "outputs": [
    {
     "name": "stdout",
     "output_type": "stream",
     "text": [
      "{1: 2, 2: 4, 3: 6, 4: 8, 5: 10, 6: 12, 7: 14, 8: 16, 9: 18, 10: 20}\n"
     ]
    }
   ],
   "source": [
    "double = {n: 2*n for n in range(1,11)}\n",
    "print(double)"
   ]
  },
  {
   "cell_type": "markdown",
   "metadata": {},
   "source": [
    "Now try to create a dictionary mapping using dictionary comprehension that maps\n",
    "a string x to its length len(x) for these strings:"
   ]
  },
  {
   "cell_type": "code",
   "execution_count": null,
   "metadata": {},
   "outputs": [
    {
     "name": "stdout",
     "output_type": "stream",
     "text": [
      "{'one': 3, 'two': 3, 'three': 5, 'four': 4, 'five': 4, 'six': 3, 'seven': 5, 'eight': 5, 'nine': 4, 'ten': 3}\n"
     ]
    }
   ],
   "source": [
    "keys = [\"one\", \"two\", \"three\", \"four\", \"five\", \"six\", \"seven\", \"eight\", \"nine\", \"ten\"]\n",
    "mapping = {n: len(n) for n in keys}\n",
    "print(mapping)"
   ]
  },
  {
   "cell_type": "markdown",
   "metadata": {},
   "source": [
    "Post your answer in the comments below. I would love to see what you come up\n",
    "with.\n",
    "\n",
    "In the next lesson, you will discover two very useful Python functions:\n",
    "`enumerate()` and `zip()`."
   ]
  },
  {
   "cell_type": "markdown",
   "metadata": {},
   "source": [
    "## Lesson 06: Enumerate and Zip\n",
    "\n",
    "In this lesson, you will learn an the enumerate() function and zip() function.\n",
    "\n",
    "Very often, you will see you’re writing a for-loop like this:"
   ]
  },
  {
   "cell_type": "code",
   "execution_count": null,
   "metadata": {},
   "outputs": [
    {
     "name": "stdout",
     "output_type": "stream",
     "text": [
      "0: alpha\n",
      "1: beta\n",
      "2: gamma\n",
      "3: delta\n"
     ]
    }
   ],
   "source": [
    "x = [\"alpha\", \"beta\", \"gamma\", \"delta\"]\n",
    "for n in range(len(x)):\n",
    "    print(\"{}: {}\".format(n, x[n]))"
   ]
  },
  {
   "cell_type": "markdown",
   "metadata": {},
   "source": [
    "But here we need the loop variable n just to use as an index to access the list\n",
    "x. In this case, we can ask Python to index the list while doing the loop, using\n",
    "`enumerate()`:"
   ]
  },
  {
   "cell_type": "code",
   "execution_count": null,
   "metadata": {},
   "outputs": [
    {
     "name": "stdout",
     "output_type": "stream",
     "text": [
      "0: alpha\n",
      "1: beta\n",
      "2: gamma\n",
      "3: delta\n"
     ]
    }
   ],
   "source": [
    "x = [\"alpha\", \"beta\", \"gamma\", \"delta\"]\n",
    "for n,string in enumerate(x):\n",
    "    print(\"{}: {}\".format(n, string))"
   ]
  },
  {
   "cell_type": "markdown",
   "metadata": {},
   "source": [
    "The result of `enumerate()` produces a tuple of the counter (default starts with\n",
    "zero) and the element of the list. We use the unpacking syntax to set it to two\n",
    "variables.\n",
    "\n",
    "If we use the for-loop like this:"
   ]
  },
  {
   "cell_type": "code",
   "execution_count": 46,
   "metadata": {},
   "outputs": [
    {
     "name": "stdout",
     "output_type": "stream",
     "text": [
      "blue cheese\n",
      "red apple\n",
      "green pea\n",
      "yellow mustard\n"
     ]
    }
   ],
   "source": [
    "x = [\"blue\", \"red\", \"green\", \"yellow\"]\n",
    "y = [\"cheese\", \"apple\", \"pea\", \"mustard\"]\n",
    "for n in range(len(x)):\n",
    "    print(\"{} {}\".format(x[n], y[n]))"
   ]
  },
  {
   "cell_type": "markdown",
   "metadata": {},
   "source": [
    "Python has a function `zip()` to help:"
   ]
  },
  {
   "cell_type": "code",
   "execution_count": null,
   "metadata": {},
   "outputs": [
    {
     "name": "stdout",
     "output_type": "stream",
     "text": [
      "blue cheese\n",
      "red apple\n",
      "green pea\n",
      "yellow mustard\n"
     ]
    }
   ],
   "source": [
    "x = [\"blue\", \"red\", \"green\", \"yellow\"]\n",
    "y = [\"cheese\", \"apple\", \"pea\", \"mustard\"]\n",
    "for a, b in zip(x, y):\n",
    "    print(\"{} {}\".format(a, b))"
   ]
  },
  {
   "cell_type": "markdown",
   "metadata": {},
   "source": [
    "The `zip()` function is like a zipper, taking one element from each input list\n",
    "and putting them side by side. You may provide more than two lists to `zip()`.\n",
    "It will produce all matching items (i.e., stop whenever it hits the end of the\n",
    "shortest input list)."
   ]
  },
  {
   "cell_type": "markdown",
   "metadata": {},
   "source": [
    "## Your task\n",
    "\n",
    "Very common in Python programs, we may do this:"
   ]
  },
  {
   "cell_type": "code",
   "execution_count": 49,
   "metadata": {},
   "outputs": [
    {
     "name": "stdout",
     "output_type": "stream",
     "text": [
      "[[1, 1, 1], [2, 4, 8], [3, 9, 27], [4, 16, 64], [5, 25, 125], [6, 36, 216], [7, 49, 343], [8, 64, 512], [9, 81, 729], [10, 100, 1000]]\n"
     ]
    }
   ],
   "source": [
    "results = []\n",
    "for n in range(1, 11):\n",
    "    squared, cubed = n**2, n**3\n",
    "    results.append([n, squared, cubed])\n",
    "\n",
    "print(results)"
   ]
  },
  {
   "cell_type": "markdown",
   "metadata": {},
   "source": [
    "Then, we can get the list of 1 to 10, the square of them, and the cube of them\n",
    "using zip() (note the * before results in the argument):"
   ]
  },
  {
   "cell_type": "code",
   "execution_count": 48,
   "metadata": {},
   "outputs": [
    {
     "name": "stdout",
     "output_type": "stream",
     "text": [
      "[[1, 1, 1], [2, 4, 8], [3, 9, 27], [4, 16, 64], [5, 25, 125], [6, 36, 216], [7, 49, 343], [8, 64, 512], [9, 81, 729], [10, 100, 1000]]\n"
     ]
    }
   ],
   "source": [
    "numbers, squares, cubes = zip(*results)\n",
    "print(results)"
   ]
  },
  {
   "cell_type": "markdown",
   "metadata": {},
   "source": [
    "Try this out. Can you recombine numbers, squares, and cubes back to results?\n",
    "Hints: Just use `zip()`.\n",
    "\n",
    "In the next lesson, you will discover three more Python functions: `map()`,\n",
    "`filter()`, and `reduce()`."
   ]
  },
  {
   "cell_type": "markdown",
   "metadata": {},
   "source": [
    "## Lesson 07: Map, Filter, and Reduce\n",
    "\n",
    "In this lesson, you will learn the Python functions `map()`, `filter()`, and\n",
    "`reduce()`.\n",
    "\n",
    "The name of these three functions came from the functional programming paradigm.\n",
    "In simple terms, `map()` is to transform elements of a list using some function,\n",
    "and `filter()` is to short list the elements based on certain criteria. If you\n",
    "learned list comprehension, they are just another method of list comprehension.\n",
    "\n",
    "Let’s consider an example we saw previously:"
   ]
  },
  {
   "cell_type": "code",
   "execution_count": 350,
   "metadata": {},
   "outputs": [
    {
     "name": "stdout",
     "output_type": "stream",
     "text": [
      "1\n",
      "2\n",
      "fizz\n",
      "4\n",
      "buzz\n",
      "fizz\n",
      "7\n",
      "8\n",
      "fizz\n",
      "buzz\n",
      "11\n",
      "fizz\n",
      "13\n",
      "14\n",
      "fizzbuzz\n",
      "16\n",
      "17\n",
      "fizz\n",
      "19\n",
      "buzz\n",
      "fizz\n",
      "22\n",
      "23\n",
      "fizz\n",
      "buzz\n",
      "26\n",
      "fizz\n",
      "28\n",
      "29\n",
      "fizzbuzz\n",
      "31\n",
      "32\n",
      "fizz\n",
      "34\n",
      "buzz\n",
      "fizz\n",
      "37\n",
      "38\n",
      "fizz\n",
      "buzz\n",
      "41\n",
      "fizz\n",
      "43\n",
      "44\n",
      "fizzbuzz\n",
      "46\n",
      "47\n",
      "fizz\n",
      "49\n",
      "buzz\n",
      "fizz\n",
      "52\n",
      "53\n",
      "fizz\n",
      "buzz\n",
      "56\n",
      "fizz\n",
      "58\n",
      "59\n",
      "fizzbuzz\n",
      "61\n",
      "62\n",
      "fizz\n",
      "64\n",
      "buzz\n",
      "fizz\n",
      "67\n",
      "68\n",
      "fizz\n",
      "buzz\n",
      "71\n",
      "fizz\n",
      "73\n",
      "74\n",
      "fizzbuzz\n",
      "76\n",
      "77\n",
      "fizz\n",
      "79\n",
      "buzz\n",
      "fizz\n",
      "82\n",
      "83\n",
      "fizz\n",
      "buzz\n",
      "86\n",
      "fizz\n",
      "88\n",
      "89\n",
      "fizzbuzz\n",
      "91\n",
      "92\n",
      "fizz\n",
      "94\n",
      "buzz\n",
      "fizz\n",
      "97\n",
      "98\n",
      "fizz\n",
      "buzz\n"
     ]
    }
   ],
   "source": [
    "def fizzbuzz(n):\n",
    "    if n%15 == 0:\n",
    "        return \"fizzbuzz\"\n",
    "    if n%3 == 0:\n",
    "        return \"fizz\"\n",
    "    if n%5 == 0:\n",
    "        return \"buzz\"\n",
    "    return str(n)\n",
    " \n",
    "numbers = map(fizzbuzz, range(1,101))\n",
    "print(\"\\n\".join(numbers))"
   ]
  },
  {
   "cell_type": "markdown",
   "metadata": {},
   "source": [
    "Here we have a function defined, and map() uses the function as the first\n",
    "argument and a list as the second argument. It will take each element from a\n",
    "list and transform it using the provided function.\n",
    "\n",
    "Using `filter()` is likewise:"
   ]
  },
  {
   "cell_type": "code",
   "execution_count": 52,
   "metadata": {},
   "outputs": [
    {
     "name": "stdout",
     "output_type": "stream",
     "text": [
      "[3, 6, 9, 12, 15, 18, 21, 24, 27, 30, 33, 36, 39, 42, 45, 48, 51, 54, 57, 60, 63, 66, 69, 72, 75, 78, 81, 84, 87, 90, 93, 96, 99]\n"
     ]
    }
   ],
   "source": [
    "def multiple3(n):\n",
    "    return n % 3 == 0\n",
    " \n",
    "mul3 = filter(multiple3, range(1,101))\n",
    "print(list(mul3))"
   ]
  },
  {
   "cell_type": "markdown",
   "metadata": {},
   "source": [
    "If that’s appropriate, you can pass the return value from map() to filter() or\n",
    "vice versa.\n",
    "\n",
    "You may consider `map()` and `filter()` as another way to write list\n",
    "comprehension (sometimes easier to read as the logic is modularized). The\n",
    "`reduce()` function is not replaceable by list comprehension. It scans the\n",
    "elements from a list and combines them using a function.\n",
    "\n",
    "While Python has a `max()` function built-in, we can use `reduce()` for the same\n",
    "purpose. Note that `reduce()` is a function from the module `functools`:"
   ]
  },
  {
   "cell_type": "code",
   "execution_count": 57,
   "metadata": {},
   "outputs": [
    {
     "name": "stdout",
     "output_type": "stream",
     "text": [
      "12\n"
     ]
    }
   ],
   "source": [
    "from functools import reduce\n",
    "def maximum(a,b):\n",
    "    if a > b:\n",
    "        return a\n",
    "    else:\n",
    "        return b\n",
    " \n",
    "x = [-3, 10, 2, 5, -6, 12, 0, 1]\n",
    "max_x = reduce(maximum, x)\n",
    "print(max_x)"
   ]
  },
  {
   "cell_type": "markdown",
   "metadata": {},
   "source": [
    "By default, `reduce()` will give the first two elements to the provided\n",
    "function, then the result will be passed to the function again with the third\n",
    "element, and so on until the input list is exhausted. But there is another way\n",
    "to invoke `reduce()`:"
   ]
  },
  {
   "cell_type": "code",
   "execution_count": 60,
   "metadata": {},
   "outputs": [
    {
     "name": "stdout",
     "output_type": "stream",
     "text": [
      "12\n"
     ]
    }
   ],
   "source": [
    "x = [-3, 10, 2, 5, -6, 12, 0, 1]\n",
    "max_x = reduce(maximum, x, -float(\"inf\"))\n",
    "print(max_x)"
   ]
  },
  {
   "cell_type": "markdown",
   "metadata": {},
   "source": [
    "This result is the same, but the first call to the function uses the default\n",
    "value (-float(\"inf\") in this case, which is negative infinity) and the first\n",
    "element of the list. Then uses the result and the second element from the list,\n",
    "and so on. Providing a default value is appropriate in some cases, such as the\n",
    "exercise below."
   ]
  },
  {
   "cell_type": "markdown",
   "metadata": {},
   "source": [
    "## Your Task\n",
    "\n",
    "Let’s consider a way to convert a bitmap to an integer. If a list [6,2,0,3] is\n",
    "provided, we should consider the list as which bit to assert, and the result\n",
    "should be in binary, 1001101, or in decimal, 77. In this case, bit 0 is defined\n",
    "to be the least significant bit or the right most bit.\n",
    "\n",
    "We can use reduce to do this and print 77:"
   ]
  },
  {
   "cell_type": "code",
   "execution_count": 61,
   "metadata": {},
   "outputs": [
    {
     "name": "stdout",
     "output_type": "stream",
     "text": [
      "77\n"
     ]
    }
   ],
   "source": [
    "def setbit(bitmap, bit):\n",
    "    return bitmap | (2**bit)\n",
    " \n",
    "assertbits = [6, 2, 0, 3]\n",
    "bitmap = reduce(setbit, assertbits, 1)\n",
    "print(bitmap)"
   ]
  },
  {
   "cell_type": "markdown",
   "metadata": {},
   "source": [
    "What should be the ??? above? Why?\n",
    "\n",
    "Post your answer in the comments below. I would love to see what you come up with.\n",
    "\n",
    "This was the final lesson."
   ]
  }
 ],
 "metadata": {
  "kernelspec": {
   "display_name": "Python 3.8.10 ('dl4cv')",
   "language": "python",
   "name": "python3"
  },
  "language_info": {
   "codemirror_mode": {
    "name": "ipython",
    "version": 3
   },
   "file_extension": ".py",
   "mimetype": "text/x-python",
   "name": "python",
   "nbconvert_exporter": "python",
   "pygments_lexer": "ipython3",
   "version": "3.8.10"
  },
  "orig_nbformat": 4,
  "vscode": {
   "interpreter": {
    "hash": "cd20b80f3abe9c1782c169f75cb3aaf4fed19688fa30b13c4021414b02823d14"
   }
  }
 },
 "nbformat": 4,
 "nbformat_minor": 2
}
