{
 "cells": [
  {
   "cell_type": "markdown",
   "metadata": {},
   "source": [
    "# Lesson 03 Some Language Features in Python\n",
    "\n",
    "The Python language syntax is quite powerful and expressive. Hence it is concise\n",
    "to express an algorithm in Python. Maybe this is the reason why it is popular in\n",
    "machine learning, as we need to experiment a lot in developing a machine\n",
    "learning model.\n",
    "\n",
    "If you’re new to Python but with experience in another programming language, you\n",
    "will sometimes find Python syntax understandable but weird. If you are used to\n",
    "writing in C++ or Java and then transitioning to Python, likely your program is\n",
    "not **Pythonic**.\n",
    "\n",
    "In this tutorial, we will cover several common language features in Python that\n",
    "distinguishes itself from other programming languages.\n"
   ]
  },
  {
   "cell_type": "markdown",
   "metadata": {},
   "source": [
    "## Tutorial Overview\n",
    "\n",
    "This tutorial is divided into two parts; they are:\n",
    "\n",
    "1.    Operators\n",
    "2.    Built-in data structures\n",
    "3.    Special variables\n",
    "4.    Built-in functions\n",
    "\n",
    "## Operators\n",
    "\n",
    "Most of the operators used in Python are the same as the other languages. The\n",
    "precedence table is as follows, adopted from Chapter 6 of [Python Language\n",
    "Reference](https://docs.python.org/3/reference/expressions.html):\n",
    "\n",
    "Operator |\tDescription\n",
    "--- | ---\n",
    "(expressions…), [expressions…], {key: value…}, {expressions…} |\tBinding or parenthesized expression, list display, dictionary display, set display\n",
    "x[index], x[index:index], x(arguments…), x.attribute |\tSubscription, slicing, call, attribute reference\n",
    "await x |\tAwait expression\n",
    "** |\tExponentiation\n",
    "+x, -x, ~x |\tPositive, negative, bitwise NOT\n",
    "*, @, /, //, % |\tMultiplication, matrix multiplication, division, floor division, remainder\n",
    "+, – |\tAddition and subtraction\n",
    "<<, >> |\tShifts\n",
    "& |\tBitwise AND\n",
    "^ |\tBitwise XOR\n",
    "| |\tBitwise OR\n",
    "in, not in, is, is not, <, <=, >, >=, !=, == |\tComparisons, including membership tests and identity tests\n",
    "not x |\tBoolean NOT\n",
    "and |\tBoolean AND\n",
    "or |\tBoolean OR\n",
    "if – else |\tConditional expression\n",
    "lambda |\tLambda expression\n",
    ":= |\tAssignment expression"
   ]
  },
  {
   "cell_type": "markdown",
   "metadata": {},
   "source": [
    "Some key differences to other languages:\n",
    "\n",
    "*    Boolean operators are spelled out, while bitwise operators are characters &, ^ and |\n",
    "*    exponentiation uses 2**3\n",
    "*    integer division uses //, and division / always gives you floating point values\n",
    "*    ternary operator: If you are familiar with the expression (x)?a:b in C, we write it as a if x else b in Python\n",
    "*    comparing if two things are equal can ether use == or is. The == operator is the same as other languages for equality, but is is stricter, reserved for whether the two variable points to the same object\n",
    "\n",
    "In Python, we allow concatenation in comparison operators. For example, to test\n",
    "if a value is between -1 and +1, we can do:"
   ]
  },
  {
   "cell_type": "code",
   "execution_count": 47,
   "metadata": {},
   "outputs": [
    {
     "name": "stdout",
     "output_type": "stream",
     "text": [
      "true\n"
     ]
    }
   ],
   "source": [
    "value = 0\n",
    "if value > -1 and value < 1:\n",
    "  print('true')"
   ]
  },
  {
   "cell_type": "markdown",
   "metadata": {},
   "source": [
    "but we can also do:"
   ]
  },
  {
   "cell_type": "code",
   "execution_count": 48,
   "metadata": {},
   "outputs": [
    {
     "name": "stdout",
     "output_type": "stream",
     "text": [
      "true\n"
     ]
    }
   ],
   "source": [
    "if -1 < value < 1:\n",
    "  print('true')"
   ]
  },
  {
   "cell_type": "markdown",
   "metadata": {},
   "source": [
    "## Built-in Data Structures\n",
    "\n",
    "As in many other languages, we have integer and floating point data types in\n",
    "Python. But there are also complex numbers (e.g., `3+1j`), Boolean as constants\n",
    "(`True` and `False`), strings, as well as a dummy type None.\n",
    "\n",
    "But the power of Python as a language lies in the fact that there are container\n",
    "types built-in: Python arrays are called “list,” and it will expand\n",
    "automatically. Associative arrays (or hash tables) are called “dict.” We also\n",
    "have “tuple” as a read-only list and “set” as a container for unique items. In\n",
    "C++, for example, you will need STL to give you these features.\n",
    "\n",
    "The “dict” data structure is probably the most powerful one in Python and gives\n",
    "us some convenience in writing code. For example, in the problem of image\n",
    "classification between dogs and cats, our machine learning model may give you\n",
    "only a value of 0 or 1, and if you want to print the name, we can do:"
   ]
  },
  {
   "cell_type": "markdown",
   "metadata": {},
   "source": []
  },
  {
   "cell_type": "code",
   "execution_count": 49,
   "metadata": {},
   "outputs": [
    {
     "name": "stdout",
     "output_type": "stream",
     "text": [
      "Result is cat\n"
     ]
    }
   ],
   "source": [
    "value = 0 # This is obtained from a model\n",
    "\n",
    "value_to_name = {0: \"cat\", 1: \"dog\"}\n",
    "print(\"Result is %s\" % value_to_name[value])"
   ]
  },
  {
   "cell_type": "markdown",
   "metadata": {},
   "source": [
    "In this case, we make use of the dict `value_to_name` as a lookup table.\n",
    "Similarly, we can also make use of the dict to build a counter:"
   ]
  },
  {
   "cell_type": "code",
   "execution_count": 50,
   "metadata": {},
   "outputs": [
    {
     "name": "stdout",
     "output_type": "stream",
     "text": [
      "{'P': 1, 'o': 2, 'r': 1, 't': 1, 'e': 5, 'z': 1, ' ': 8, 'c': 1, 'v': 1, 'i': 3, 'u': 5, 'x': 1, 'w': 1, 'h': 1, 's': 1, 'k': 1, 'y': 1, 'a': 1, 'j': 1, 'g': 1, 'b': 1, 'l': 1, 'n': 1, 'd': 1, 'q': 1, 'f': 1, 'm': 1}\n"
     ]
    }
   ],
   "source": [
    "sentence = \"Portez ce vieux whisky au juge blond qui fume\"\n",
    "counter = {}\n",
    "for char in sentence:\n",
    "    if char not in counter:\n",
    "        counter[char] = 0\n",
    "    counter[char] += 1\n",
    " \n",
    "print(counter)"
   ]
  },
  {
   "cell_type": "markdown",
   "metadata": {},
   "source": [
    "This will build a dict called `counter` that maps each character to the number of\n",
    "occurrences in the sentence.\n",
    "\n",
    "Python list also comes with powerful syntax. Unlike some other languages, we can\n",
    "put anything into a list:"
   ]
  },
  {
   "cell_type": "code",
   "execution_count": 51,
   "metadata": {},
   "outputs": [
    {
     "name": "stdout",
     "output_type": "stream",
     "text": [
      "[1, 2, 'fizz', 4, 'buzz', 'fizz', 7, 8, 'fizz', 'buzz', 11, 'fizz', 13, 14, 'fizzbuzz']\n"
     ]
    }
   ],
   "source": [
    "A = [1, 2, \"fizz\", 4, \"buzz\", \"fizz\", 7]\n",
    "A += [8, \"fizz\", \"buzz\", 11, \"fizz\", 13, 14, \"fizzbuzz\"]\n",
    "print(A)"
   ]
  },
  {
   "cell_type": "markdown",
   "metadata": {},
   "source": [
    "and we can use `+` to concatenate lists. In the above, we use `+=` to extend the\n",
    "list A.\n",
    "\n",
    "Python list has slicing syntax. For example, in the above A, we can make\n",
    "`A[1:3]` to mean elements 1 and 2, i.e., `[2, \"fizz\"]` and `A[1:1]` is an empty\n",
    "list. Indeed we can assign something to a slice to insert or remove some\n",
    "elements. For example:"
   ]
  },
  {
   "cell_type": "code",
   "execution_count": 52,
   "metadata": {},
   "outputs": [
    {
     "name": "stdout",
     "output_type": "stream",
     "text": [
      "[1, 2, 2.1, 2.2, 'fizz', 4, 'buzz', 'fizz', 7, 8, 'fizz', 'buzz', 11, 'fizz', 13, 14, 'fizzbuzz']\n"
     ]
    }
   ],
   "source": [
    "A[2:2] = [2.1, 2.2]\n",
    "print(A)"
   ]
  },
  {
   "cell_type": "markdown",
   "metadata": {},
   "source": [
    "and then,"
   ]
  },
  {
   "cell_type": "code",
   "execution_count": 53,
   "metadata": {},
   "outputs": [
    {
     "name": "stdout",
     "output_type": "stream",
     "text": [
      "[2.1, 2.2, 'fizz', 4, 'buzz', 'fizz', 7, 8, 'fizz', 'buzz', 11, 'fizz', 13, 14, 'fizzbuzz']\n"
     ]
    }
   ],
   "source": [
    "A[0:2] = []\n",
    "print(A)"
   ]
  },
  {
   "cell_type": "markdown",
   "metadata": {},
   "source": [
    "Tuple has a similar syntax as list, except it is defined using parenthesis:"
   ]
  },
  {
   "cell_type": "code",
   "execution_count": 54,
   "metadata": {},
   "outputs": [],
   "source": [
    "A = (\"foo\", \"bar\")"
   ]
  },
  {
   "cell_type": "markdown",
   "metadata": {},
   "source": [
    "Tuple is immutable. It means you cannot modify it once it is defined. In Python,\n",
    "if you put several things together with commas to separate each other, it is\n",
    "assumed to be a tuple. The significance of this is that we can swap two\n",
    "variables in a very clean syntax:"
   ]
  },
  {
   "cell_type": "code",
   "execution_count": 55,
   "metadata": {},
   "outputs": [
    {
     "name": "stdout",
     "output_type": "stream",
     "text": [
      "a is 42; b is foo\n",
      "After swap, a is foo; b is 42\n"
     ]
    }
   ],
   "source": [
    "a = 42\n",
    "b = \"foo\"\n",
    "print(\"a is %s; b is %s\" % (a,b))\n",
    "a, b = b, a # swap\n",
    "print(\"After swap, a is %s; b is %s\" % (a,b))"
   ]
  },
  {
   "cell_type": "markdown",
   "metadata": {},
   "source": [
    "Finally, as you have seen in the examples above, Python strings support\n",
    "substitution on the fly. With the similar template syntax as printf() function\n",
    "in C, we can use %s to substitute a string or %d to substitute an integer. We\n",
    "can also use %.3f to substitute a floating point number with 3 decimal places.\n",
    "Below is an example:"
   ]
  },
  {
   "cell_type": "code",
   "execution_count": 56,
   "metadata": {},
   "outputs": [
    {
     "name": "stdout",
     "output_type": "stream",
     "text": [
      "Square root of 10 is 3.162\n"
     ]
    }
   ],
   "source": [
    "template = \"Square root of %d is %.3f\"\n",
    "n = 10\n",
    "answer = template % (n, n**0.5)\n",
    "print(answer)"
   ]
  },
  {
   "cell_type": "markdown",
   "metadata": {},
   "source": [
    "But this is just one of the many ways to do it. The above can also be achieved\n",
    "using the f-string and format() method."
   ]
  },
  {
   "cell_type": "markdown",
   "metadata": {},
   "source": [
    "## Special variables\n",
    "\n",
    "Python has several “special variables” predefined. `__name__` tells the current\n",
    "namespace, and `__file__` tells the filename of the script. More will be found\n",
    "inside objects, but almost all of them are generally not supposed to be directly\n",
    "used. As a convention (i.e., just a habit as no one is stopping you from doing\n",
    "it), we name internal variables with an underscore or double underscore as a\n",
    "prefix (by the way, double underscores are pronounced as “dunder” by some\n",
    "people). If you’re from C++ or Java, these are equivalent to the private members\n",
    "of a class, although they are not technically private.\n",
    "\n",
    "One notable “special” variable that you may often see in Python code is `_`, just\n",
    "an underscore character. It is by convention to mean a variable that we do not\n",
    "care about. Why do you need a variable if you don’t care? That’s because\n",
    "sometimes you hold a return value from a function. For example, in pandas, we\n",
    "can scan each row of a dataframe:"
   ]
  },
  {
   "cell_type": "code",
   "execution_count": 57,
   "metadata": {},
   "outputs": [
    {
     "name": "stdout",
     "output_type": "stream",
     "text": [
      "   x  y  z\n",
      "0  1  2  3\n",
      "1  2  3  4\n",
      "2  3  4  5\n",
      "3  5  6  7\n",
      "3\n",
      "4\n",
      "5\n",
      "7\n"
     ]
    }
   ],
   "source": [
    "import pandas as pd\n",
    "A = pd.DataFrame([[1,2,3],[2,3,4],[3,4,5],[5,6,7]], columns=[\"x\",\"y\",\"z\"])\n",
    "print(A)\n",
    " \n",
    "for _, row in A.iterrows():\n",
    "    print(row[\"z\"])"
   ]
  },
  {
   "cell_type": "markdown",
   "metadata": {},
   "source": [
    "In the above, we can see that the dataframe has three columns, “x,” “y,” and\n",
    "“z,” and the rows are indexed by 0 to 3. If we call `A.iterrows()`, it will give\n",
    "us the index and the row one by one, but we don’t care about the index. We can\n",
    "just create a new variable to hold it but not use it. To clarify that we are not\n",
    "going to use it, we use `_` as the variable to hold the index while the row is\n",
    "stored into variable row.\n"
   ]
  },
  {
   "cell_type": "markdown",
   "metadata": {},
   "source": [
    "## Built-in functions\n",
    "\n",
    "In Python, a small number of functions are defined as built-in while other functionalities are delivered in other packages. The list of all built-in functions are available in the [Python Standard Library documentation](https://docs.python.org/3/library/functions.html). Below are those defined in Python 3.10:\n",
    "\n",
    "`\n",
    "abs()\n",
    "aiter()\n",
    "all()\n",
    "any()\n",
    "anext()\n",
    "ascii()\n",
    "bin()\n",
    "bool()\n",
    "breakpoint()\n",
    "bytearray()\n",
    "bytes()\n",
    "callable()\n",
    "chr()\n",
    "classmethod()\n",
    "compile()\n",
    "complex()\n",
    "delattr()\n",
    "dict()\n",
    "dir()\n",
    "divmod()\n",
    "enumerate()\n",
    "eval()\n",
    "exec()\n",
    "filter()\n",
    "float()\n",
    "format()\n",
    "frozenset()\n",
    "getattr()\n",
    "globals()\n",
    "hasattr()\n",
    "hash()\n",
    "help()\n",
    "hex()\n",
    "id()\n",
    "input()\n",
    "int()\n",
    "isinstance()\n",
    "issubclass()\n",
    "iter()\n",
    "len()\n",
    "list()\n",
    "locals()\n",
    "map()\n",
    "max()\n",
    "memoryview()\n",
    "min()\n",
    "next()\n",
    "object()\n",
    "oct()\n",
    "open()\n",
    "ord()\n",
    "pow()\n",
    "print()\n",
    "property()\n",
    "range()\n",
    "repr()\n",
    "reversed()\n",
    "round()\n",
    "set()\n",
    "setattr()\n",
    "slice()\n",
    "sorted()\n",
    "staticmethod()\n",
    "str()\n",
    "sum()\n",
    "super()\n",
    "tuple()\n",
    "type()\n",
    "vars()\n",
    "zip()\n",
    "__import__()`"
   ]
  },
  {
   "cell_type": "markdown",
   "metadata": {},
   "source": [
    "Not all are used every day, but some are particularly notable:\n",
    "\n",
    "`zip()` allows you to combine multiple lists together. For example,"
   ]
  },
  {
   "cell_type": "code",
   "execution_count": 58,
   "metadata": {},
   "outputs": [
    {
     "name": "stdout",
     "output_type": "stream",
     "text": [
      "('x', 3, 2.1)\n",
      "('y', 5, 2.5)\n",
      "('z', 7, 2.9)\n"
     ]
    }
   ],
   "source": [
    "a = [\"x\", \"y\", \"z\"]\n",
    "b = [3, 5, 7, 9]\n",
    "c = [2.1, 2.5, 2.9]\n",
    "for x in zip(a, b, c):\n",
    "    print(x)"
   ]
  },
  {
   "cell_type": "markdown",
   "metadata": {},
   "source": [
    "And it is handy if you want to “pivot” a list of list, e.g.,"
   ]
  },
  {
   "cell_type": "code",
   "execution_count": 59,
   "metadata": {},
   "outputs": [
    {
     "name": "stdout",
     "output_type": "stream",
     "text": [
      "('x', 'y', 'z')\n",
      "(3, 5, 7)\n",
      "(2.1, 2.5, 2.9)\n"
     ]
    }
   ],
   "source": [
    "a = [['x', 3, 2.1], ['y', 5, 2.5], ['z', 7, 2.9]]\n",
    "p,q,r = zip(*a)\n",
    "print(p)\n",
    "print(q)\n",
    "print(r)"
   ]
  },
  {
   "cell_type": "markdown",
   "metadata": {},
   "source": [
    "`enumerate()` is handy to let you number a list of items, for example:"
   ]
  },
  {
   "cell_type": "code",
   "execution_count": 60,
   "metadata": {},
   "outputs": [
    {
     "name": "stdout",
     "output_type": "stream",
     "text": [
      "item 0 is quick\n",
      "item 1 is brown\n",
      "item 2 is fox\n",
      "item 3 is jumps\n",
      "item 4 is over\n"
     ]
    }
   ],
   "source": [
    "a = [\"quick\", \"brown\", \"fox\", \"jumps\", \"over\"]\n",
    "for num, item in enumerate(a):\n",
    "    print(\"item %d is %s\" % (num, item))"
   ]
  },
  {
   "cell_type": "markdown",
   "metadata": {},
   "source": [
    "This is equivalent to the following if you do not use enumerate:"
   ]
  },
  {
   "cell_type": "code",
   "execution_count": 61,
   "metadata": {},
   "outputs": [
    {
     "name": "stdout",
     "output_type": "stream",
     "text": [
      "item 0 is quick\n",
      "item 1 is brown\n",
      "item 2 is fox\n",
      "item 3 is jumps\n",
      "item 4 is over\n"
     ]
    }
   ],
   "source": [
    "a = [\"quick\", \"brown\", \"fox\", \"jumps\", \"over\"]\n",
    "for num in range(len(a)):\n",
    "    print(\"item %d is %s\" % (num, a[num]))"
   ]
  },
  {
   "cell_type": "markdown",
   "metadata": {},
   "source": []
  },
  {
   "cell_type": "markdown",
   "metadata": {},
   "source": [
    "Compared to other languages, the for loop in Python is to iterate over a\n",
    "predefined range rather than computing the values in each iteration. In other\n",
    "words, there is no direct equivalence to the following C for loop:\n",
    "\n",
    "`\n",
    "for (i=0; i<100; ++i) {\n",
    "...\n",
    "}\n",
    "`\n",
    "\n",
    "and in Python, we have to use `range()` to do the same:\n",
    "\n",
    "`\n",
    "for i in range(100):\n",
    "    ...\n",
    "`"
   ]
  },
  {
   "cell_type": "markdown",
   "metadata": {},
   "source": [
    "In a similar sense, there are some functions that manipulate a list (or\n",
    "list-like data structures, which Python calls the “iterables”):\n",
    "\n",
    "*    `max(a)`: To find the maximum value in list a\n",
    "*    `min(a)`: To find the minimum value in list a\n",
    "*    `sum(a)`: To find the sum of values in list a\n",
    "*    `reverse(a)`: To iterate from list a from back\n",
    "*    `sorted(a)`: To return a copy of list a with elements in sorted order\n",
    "\n",
    "We will cover more on these in the next post.\n",
    "\n",
    "## Further reading\n",
    "\n",
    "The above only highlighted some key features in Python. Surely there is no more\n",
    "authoritative documentation than the official documentation from Python.org; all\n",
    "beginners should start with the Python tutorial and check the Language Reference\n",
    "for syntax details and the Standard Library for additional libraries that come\n",
    "with the Python installation:\n",
    "\n",
    "*    The Python Tutorial – https://docs.python.org/3/tutorial/index.html\n",
    "*    The Python Language Reference – https://docs.python.org/3/reference/index.html\n",
    "*    The Python Standard Library – https://docs.python.org/3/library/index.html\n",
    "\n",
    "For books, **Learning Python** *from Lutz* is an old but good primer. After that, **Fluent Python** can help you better understand the internal structure of the language. However, if you want something quick, *Al Sweigart’s* book can help you quickly pick up the language with examples. Once you get familiar with Python, you may want to learn some quick tips for a particular task from the *Python Cookbook**.\n",
    "\n",
    "*    Learning Python, 5th Edition by Mark Lutz, O’Reilly, 2013, https://www.amazon.com/dp/1449355730/\n",
    "*    Fluent Python by Luciano Ramalho, O’Reilly, 2015, https://www.amazon.com/dp/1491946008/\n",
    "*    Automate the Boring Stuff with Python, 2nd Edition by Al Sweigart, No Starch Press, 2019, https://www.amazon.com/dp/1593279922/\n",
    "*    Python Cookbook, 3rd Edition by David Beazley and Brian K. Jones, O’Reilly, 2013, https://www.amazon.com/dp/1449340377/\n",
    "\n",
    "## Summary\n",
    "\n",
    "In this tutorial, you discovered some distinctive features of Python. Specifically, you learned:\n",
    "\n",
    "*    The operators provided by Python\n",
    "*    Some use of the built-in data structure\n",
    "*    Some frequently used built-in functions and why they are useful\n"
   ]
  }
 ],
 "metadata": {
  "kernelspec": {
   "display_name": "Python 3.8.10 ('dl4cv')",
   "language": "python",
   "name": "python3"
  },
  "language_info": {
   "codemirror_mode": {
    "name": "ipython",
    "version": 3
   },
   "file_extension": ".py",
   "mimetype": "text/x-python",
   "name": "python",
   "nbconvert_exporter": "python",
   "pygments_lexer": "ipython3",
   "version": "3.8.10"
  },
  "orig_nbformat": 4,
  "vscode": {
   "interpreter": {
    "hash": "cd20b80f3abe9c1782c169f75cb3aaf4fed19688fa30b13c4021414b02823d14"
   }
  }
 },
 "nbformat": 4,
 "nbformat_minor": 2
}
