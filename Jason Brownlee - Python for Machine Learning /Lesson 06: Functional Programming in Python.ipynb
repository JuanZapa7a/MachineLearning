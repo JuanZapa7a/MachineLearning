{
 "cells": [
  {
   "cell_type": "markdown",
   "metadata": {},
   "source": [
    "# Lesson 06 Functional Programming in Python\n",
    "\n",
    "Python is a fantastic programming language. It is likely to be your first choice\n",
    "for developing a machine learning or data science application. Python is\n",
    "interesting because it is a multi-paradigm programming language that can be used\n",
    "for both object-oriented and imperative programming. It has a simple syntax that\n",
    "is easy to read and comprehend.\n",
    "\n",
    "In computer science and mathematics, the solution of many problems can be more\n",
    "easily and naturally expressed using the functional programming style. In this\n",
    "tutorial, we’ll discuss Python’s support for the functional programming paradigm\n",
    "and Python’s classes and modules that help you program in this style.\n",
    "\n",
    "After completing this tutorial, you will know:\n",
    "\n",
    "*    Basic idea of functional programming\n",
    "*    The `itertools` library\n",
    "*    The `functools` library\n",
    "*    Map-reduce design pattern and its possible implementation in Python\n",
    "\n",
    "## Tutorial Overview\n",
    "\n",
    "This tutorial is divided into five parts; they are:\n",
    "\n",
    "1.    The idea of functional programming\n",
    "2.    High order functions: Filter, map, and reduce\n",
    "3.    Itertools\n",
    "4.    Functools\n",
    "5.    Map-reduce pattern\n",
    "\n",
    "### The idea of functional programming\n",
    "\n",
    "If you have programming experience, you likely learned imperative programming.\n",
    "It is built with statements and manipulating variables. Functional programming\n",
    "is a declarative paradigm. It is different from the imperative paradigm that\n",
    "programs are built in by applying and composing functions. The functions here\n",
    "are supposed to be closer to the definition of a mathematical function, in which\n",
    "there are no side effects or simply no access to external variables. When you\n",
    "call them with the same argument, they always give you the same result.\n",
    "\n",
    "The benefit of functional programming is to make your program less error-prone.\n",
    "Without the side effects, it is more predictable and easier to see the outcome.\n",
    "We also do not need to worry about one part of the program interfering with\n",
    "another part.\n",
    "\n",
    "Many libraries adopted a functional programming paradigm. For example, the\n",
    "following using pandas and pandas-datareader:\n"
   ]
  },
  {
   "cell_type": "code",
   "execution_count": 109,
   "metadata": {},
   "outputs": [
    {
     "name": "stdout",
     "output_type": "stream",
     "text": [
      "                              SP.POP.TOTL\n",
      "country                                  \n",
      "Afghanistan                  2.976380e+07\n",
      "Africa Eastern and Southern  5.257466e+08\n",
      "Africa Western and Central   3.550782e+08\n",
      "Albania                      2.943197e+06\n",
      "Algeria                      3.658167e+07\n",
      "...                                   ...\n",
      "West Bank and Gaza           3.806576e+06\n",
      "World                        6.930602e+09\n",
      "Yemen, Rep.                  2.334172e+07\n",
      "Zambia                       1.393321e+07\n",
      "Zimbabwe                     1.299188e+07\n",
      "\n",
      "[266 rows x 1 columns]\n"
     ]
    }
   ],
   "source": [
    "import pandas_datareader as pdr\n",
    "import pandas_datareader.wb\n",
    " \n",
    "df = (\n",
    "    pdr.wb\n",
    "    .download(indicator=\"SP.POP.TOTL\", country=\"all\", start=2000, end=2020)\n",
    "    .reset_index()\n",
    "    .filter([\"country\", \"SP.POP.TOTL\"])\n",
    "    .groupby(\"country\")\n",
    "    .mean()\n",
    ")\n",
    "print(df)"
   ]
  },
  {
   "cell_type": "markdown",
   "metadata": {},
   "source": [
    "The pandas-datareader is a useful library that helps you download data from the\n",
    "Internet in real time. The above example is to download population data from the\n",
    "World Bank. The result is a pandas dataframe with countries and years as an\n",
    "index and a single column named “SP.POP.TOTL” for the population. Then we\n",
    "manipulate the dataframe step by step, and at the end, we find the average\n",
    "population of all countries across the years.\n",
    "\n",
    "We can write in this way because, in pandas, most functions on the dataframe are\n",
    "not changing the dataframe but producing a new dataframe to reflect the result\n",
    "of the function. We call this behavior immutable because the input dataframe\n",
    "never changed. The consequence is that we can chain up the functions to\n",
    "manipulate the dataframe step by step. If we have to break it using the style of\n",
    "imperative programming, the above program is the same as the following:"
   ]
  },
  {
   "cell_type": "code",
   "execution_count": 110,
   "metadata": {},
   "outputs": [
    {
     "name": "stdout",
     "output_type": "stream",
     "text": [
      "                              SP.POP.TOTL\n",
      "country                                  \n",
      "Afghanistan                  2.976380e+07\n",
      "Africa Eastern and Southern  5.257466e+08\n",
      "Africa Western and Central   3.550782e+08\n",
      "Albania                      2.943197e+06\n",
      "Algeria                      3.658167e+07\n",
      "...                                   ...\n",
      "West Bank and Gaza           3.806576e+06\n",
      "World                        6.930602e+09\n",
      "Yemen, Rep.                  2.334172e+07\n",
      "Zambia                       1.393321e+07\n",
      "Zimbabwe                     1.299188e+07\n",
      "\n",
      "[266 rows x 1 columns]\n"
     ]
    }
   ],
   "source": [
    "import pandas_datareader as pdr\n",
    "import pandas_datareader.wb\n",
    "\n",
    "df = pdr.wb.download(indicator=\"SP.POP.TOTL\", country=\"all\", start=2000, end=2020)\n",
    "df = df.reset_index()\n",
    "df = df.filter([\"country\", \"SP.POP.TOTL\"])\n",
    "groups = df.groupby(\"country\")\n",
    "df = groups.mean()\n",
    "\n",
    "print(df)"
   ]
  },
  {
   "cell_type": "markdown",
   "metadata": {},
   "source": [
    "## High order functions: Filter, map, and reduce\n",
    "\n",
    "Python is not a strictly functional programming language. But it is trivial to\n",
    "write Python in a functional style. There are three basic functions on iterables\n",
    "that allow us to write a powerful program in a very trivial way: filter, map,\n",
    "and reduce.\n",
    "\n",
    "Filter is to select some of the elements in an iterable, such as a list. Map is\n",
    "to transform elements one by one. Finally, reducing is converting the entire\n",
    "iterable into a different form, such as the sum of all elements or concatenating\n",
    "substrings in a list into a longer string. To illustrate their use, let’s\n",
    "consider a simple task: Given a log file from the Apache web server, find the IP\n",
    "address that sent the most requests with error code 404. If you have no idea\n",
    "what a log file from an Apache web server looks like, the following is an\n",
    "example:\n",
    "\n",
    "```shell\n",
    "89.170.74.95 - - [17/May/2015:16:05:27 +0000] \"HEAD /projects/xdotool/ HTTP/1.1\" 200 - \"-\" \"Mozilla/5.0 (Windows NT 6.1; WOW64; rv:24.0) Gecko/20100101 Firefox/24.0\" \n",
    "95.82.59.254 - - [19/May/2015:03:05:19 +0000] \"GET /images/jordan-80.png HTTP/1.1\" 200 6146 \"http://www.semicomplete.com/articles/dynamic-dns-with-dhcp/\" \"Mozilla/5.0 (Windows NT 6.1; rv:27.0) Gecko/20100101 Firefox/27.0\"\n",
    "155.140.133.248 - - [19/May/2015:06:05:34 +0000] \"GET /images/jordan-80.png HTTP/1.1\" 200 6146 \"http://www.semicomplete.com/blog/geekery/debugging-java-performance.html\" \"Mozilla/5.0 (compatible; MSIE 9.0; Windows NT 6.1; WOW64; Trident/5.0)\"\n",
    "68.180.224.225 - - [20/May/2015:20:05:02 +0000] \"GET /blog/tags/documentation HTTP/1.1\" 200 12091 \"-\" \"Mozilla/5.0 (compatible; Yahoo! Slurp; http://help.yahoo.com/help/us/ysearch/slurp)\"\n",
    "```\n",
    "\n",
    "The above is from a bigger file located here. These are a few lines from the\n",
    "log. Each line begins with the IP address of the client (i.e., the browser), and\n",
    "the code after “HTTP/1.1” is the response status code. Typically, it is 200 if\n",
    "the request is fulfilled. But if the browser requested something that does not\n",
    "exist on the server, the code would be 404. To find the IP address that\n",
    "corresponds to the most 404 requests, we can simply scan the log file line by\n",
    "line, find those with 404, and count the IP addresses to identify the one with\n",
    "the most occurrences.\n",
    "\n",
    "In Python code, we can do the following. First, we see how we can read the log\n",
    "file and extract the IP address and status code from a line:"
   ]
  },
  {
   "cell_type": "code",
   "execution_count": 111,
   "metadata": {},
   "outputs": [
    {
     "name": "stdout",
     "output_type": "stream",
     "text": [
      "('83.149.9.216', '200')\n"
     ]
    }
   ],
   "source": [
    "import urllib.request\n",
    "import re\n",
    "\n",
    "# Read the log file, split into lines\n",
    "logurl = \"https://raw.githubusercontent.com/elastic/examples/master/Common%20Data%20Formats/apache_logs/apache_logs\"\n",
    "logfile = urllib.request.urlopen(logurl).read().decode(\"utf8\")\n",
    "lines = logfile.splitlines()\n",
    "\n",
    "# using regular expression to extract IP address and status code from a line\n",
    "def ip_and_code(logline):\n",
    "    m = re.match(r'([\\d\\.]+) .*? \\[.*?\\] \".*?\" (\\d+) ', logline)\n",
    "    return (m.group(1), m.group(2))\n",
    "\n",
    "print(ip_and_code(lines[0]))"
   ]
  },
  {
   "cell_type": "markdown",
   "metadata": {},
   "source": [
    "then we can use a couple `map()` and `filter()` and some other functions to find the\n",
    "IP address:"
   ]
  },
  {
   "cell_type": "code",
   "execution_count": 112,
   "metadata": {},
   "outputs": [
    {
     "name": "stdout",
     "output_type": "stream",
     "text": [
      "(60, '208.91.156.11')\n"
     ]
    }
   ],
   "source": [
    "...\n",
    "\n",
    "import collections\n",
    "\n",
    "def is404(pair):\n",
    "    return pair[1] == \"404\"\n",
    "def getIP(pair):\n",
    "    return pair[0]\n",
    "def count_ip(count_item):\n",
    "    ip, count = count_item\n",
    "    return (count, ip)\n",
    "\n",
    "# transform each line into (IP address, status code) pair\n",
    "ipcodepairs = map(ip_and_code, lines)\n",
    "# keep only those with status code 404\n",
    "pairs404 = filter(is404, ipcodepairs)\n",
    "# extract the IP address part from each pair\n",
    "ip404 = map(getIP, pairs404)\n",
    "# count the occurrences, the result is a dictionary of IP addresses map to the count\n",
    "ipcount = collections.Counter(ip404)\n",
    "# convert the (IP address, count) tuple into (count, IP address) order\n",
    "countip = map(count_ip, ipcount.items())\n",
    "# find the tuple with the maximum on the count\n",
    "print(max(countip))"
   ]
  },
  {
   "cell_type": "markdown",
   "metadata": {},
   "source": [
    "Here, we did not use the `reduce()` function because we have some specialized\n",
    "reduce operations built in, such as `max()`. But indeed, we can make a simpler\n",
    "program with list comprehension notation:"
   ]
  },
  {
   "cell_type": "code",
   "execution_count": 113,
   "metadata": {},
   "outputs": [
    {
     "name": "stdout",
     "output_type": "stream",
     "text": [
      "(60, '208.91.156.11')\n"
     ]
    }
   ],
   "source": [
    "...\n",
    "\n",
    "ipcodepairs = [ip_and_code(x) for x in lines]\n",
    "ip404 = [ip for ip,code in ipcodepairs if code==\"404\"]\n",
    "ipcount = collections.Counter(ip404)\n",
    "countip = [(count,ip) for ip,count in ipcount.items()]\n",
    "print(max(countip))"
   ]
  },
  {
   "cell_type": "markdown",
   "metadata": {},
   "source": [
    "or even write it in a single statement (but less readable):"
   ]
  },
  {
   "cell_type": "code",
   "execution_count": 114,
   "metadata": {},
   "outputs": [
    {
     "name": "stdout",
     "output_type": "stream",
     "text": [
      "(60, '208.91.156.11')\n"
     ]
    }
   ],
   "source": [
    "import urllib.request\n",
    "import re\n",
    "import collections\n",
    "\n",
    "logurl = \"https://raw.githubusercontent.com/elastic/examples/master/Common%20Data%20Formats/apache_logs/apache_logs\"\n",
    "print(\n",
    "    max(\n",
    "        [(count,ip) for ip,count in\n",
    "            collections.Counter([\n",
    "                ip for ip, code in\n",
    "                [ip_and_code(x) for x in\n",
    "                     urllib.request.urlopen(logurl)\n",
    "                     .read()\n",
    "                     .decode(\"utf8\")\n",
    "                     .splitlines()\n",
    "                ]\n",
    "                if code==\"404\"\n",
    "            ]).items()\n",
    "        ]\n",
    "    )\n",
    ")"
   ]
  },
  {
   "cell_type": "markdown",
   "metadata": {},
   "source": [
    "## Itertools in Python\n",
    "\n",
    "The above example on filter, map, and reduce illustrates the ubiquity of\n",
    "iterables in Python. This includes lists, tuples, dictionaries, sets, and even\n",
    "generators, all of which can be iterated using a for-loop. In Python, we have a\n",
    "module named itertools that brings in more functions to manipulate (but not\n",
    "mutate) iterables. From Python’s official documentation:\n",
    "\n",
    "> The module standardizes a core set of fast, memory-efficient tools that are\n",
    "> useful by themselves or in combination. Together, they form an “iterator\n",
    "> algebra,” making it possible to construct specialized tools succinctly and\n",
    "> efficiently in pure Python.\n",
    "\n",
    "We’ll discuss a few functions of itertools in this tutorial. When trying out the\n",
    "examples given below, be sure to import itertools and operator as:"
   ]
  },
  {
   "cell_type": "code",
   "execution_count": 115,
   "metadata": {},
   "outputs": [],
   "source": [
    "import itertools\n",
    "import operator"
   ]
  },
  {
   "cell_type": "markdown",
   "metadata": {},
   "source": [
    "### Infinite Iterators\n",
    "\n",
    "Infinite iterators help you create sequences of infinite length as shown below.\n",
    "\n",
    "#### `count()`"
   ]
  },
  {
   "cell_type": "code",
   "execution_count": 116,
   "metadata": {},
   "outputs": [
    {
     "name": "stdout",
     "output_type": "stream",
     "text": [
      "0\n",
      "100\n",
      "200\n",
      "300\n",
      "400\n",
      "500\n",
      "600\n",
      "700\n",
      "800\n",
      "900\n",
      "1000\n"
     ]
    }
   ],
   "source": [
    "start = 0\n",
    "step = 100\n",
    "for i in itertools.count(start, step):\n",
    "    print(i)\n",
    "    if i>=1000:\n",
    "        break"
   ]
  },
  {
   "cell_type": "code",
   "execution_count": 117,
   "metadata": {},
   "outputs": [
    {
     "name": "stdout",
     "output_type": "stream",
     "text": [
      "[0, 100, 200, 300, 400, 500, 600, 700, 800, 900, 1000]\n"
     ]
    }
   ],
   "source": [
    "print(list(i for i in range (0,1100,100)))"
   ]
  },
  {
   "cell_type": "code",
   "execution_count": 118,
   "metadata": {},
   "outputs": [
    {
     "name": "stdout",
     "output_type": "stream",
     "text": [
      "0\n",
      "100\n",
      "200\n",
      "300\n",
      "400\n",
      "500\n",
      "600\n",
      "700\n",
      "800\n",
      "900\n",
      "1000\n"
     ]
    }
   ],
   "source": [
    "for i in range(0,1100,100):\n",
    "  print(i)"
   ]
  },
  {
   "cell_type": "markdown",
   "metadata": {},
   "source": [
    "#### `cycle()`"
   ]
  },
  {
   "cell_type": "code",
   "execution_count": 119,
   "metadata": {},
   "outputs": [
    {
     "name": "stdout",
     "output_type": "stream",
     "text": [
      "1\n",
      "2\n",
      "3\n",
      "4\n",
      "5\n",
      "1\n",
      "2\n",
      "3\n",
      "4\n",
      "5\n",
      "1\n"
     ]
    }
   ],
   "source": [
    "counter = 0\n",
    "cyclic_list = [1, 2, 3, 4, 5]\n",
    "for i in itertools.cycle(cyclic_list):\n",
    "    print(i)\n",
    "    counter = counter+1\n",
    "    if counter>10:\n",
    "        break"
   ]
  },
  {
   "cell_type": "markdown",
   "metadata": {},
   "source": [
    "#### `repeat()`"
   ]
  },
  {
   "cell_type": "code",
   "execution_count": 120,
   "metadata": {},
   "outputs": [
    {
     "name": "stdout",
     "output_type": "stream",
     "text": [
      "3\n",
      "3\n",
      "3\n",
      "3\n",
      "3\n"
     ]
    }
   ],
   "source": [
    "for i in itertools.repeat(3,5):\n",
    "    print(i)"
   ]
  },
  {
   "cell_type": "code",
   "execution_count": 121,
   "metadata": {},
   "outputs": [
    {
     "name": "stdout",
     "output_type": "stream",
     "text": [
      "[3, 3, 3, 3, 3]\n"
     ]
    }
   ],
   "source": [
    "print(list(itertools.repeat(3,5)))"
   ]
  },
  {
   "cell_type": "markdown",
   "metadata": {},
   "source": [
    "### Combinatoric iterators\n",
    "\n",
    "You can create permutations, combinations, etc., with these iterators.\n",
    "\n",
    "#### `product()`"
   ]
  },
  {
   "cell_type": "code",
   "execution_count": 122,
   "metadata": {},
   "outputs": [
    {
     "name": "stdout",
     "output_type": "stream",
     "text": [
      "[(1, 'A'), (1, 'B'), (2, 'A'), (2, 'B'), (3, 'A'), (3, 'B')]\n"
     ]
    }
   ],
   "source": [
    "x = [1, 2, 3]\n",
    "y = ['A', 'B']\n",
    "print(list(itertools.product(x, y)))"
   ]
  },
  {
   "cell_type": "markdown",
   "metadata": {},
   "source": [
    "#### `permutations()`"
   ]
  },
  {
   "cell_type": "code",
   "execution_count": 123,
   "metadata": {},
   "outputs": [
    {
     "name": "stdout",
     "output_type": "stream",
     "text": [
      "[(1, 2, 3), (1, 3, 2), (2, 1, 3), (2, 3, 1), (3, 1, 2), (3, 2, 1)]\n"
     ]
    }
   ],
   "source": [
    "x = [1, 2, 3]\n",
    "print(list(itertools.permutations(x)))"
   ]
  },
  {
   "cell_type": "markdown",
   "metadata": {},
   "source": [
    "#### `combinations()`"
   ]
  },
  {
   "cell_type": "code",
   "execution_count": 124,
   "metadata": {},
   "outputs": [
    {
     "name": "stdout",
     "output_type": "stream",
     "text": [
      "[('A', 'B', 'C'), ('A', 'B', 'D'), ('A', 'C', 'D'), ('B', 'C', 'D')]\n"
     ]
    }
   ],
   "source": [
    "y = ['A', 'B', 'C', 'D']\n",
    "print(list(itertools.combinations(y, 3)))"
   ]
  },
  {
   "cell_type": "markdown",
   "metadata": {},
   "source": [
    "#### `combinations_with_replacement()`"
   ]
  },
  {
   "cell_type": "code",
   "execution_count": 125,
   "metadata": {},
   "outputs": [
    {
     "name": "stdout",
     "output_type": "stream",
     "text": [
      "[('A', 'A'), ('A', 'B'), ('A', 'C'), ('B', 'B'), ('B', 'C'), ('C', 'C')]\n"
     ]
    }
   ],
   "source": [
    "z = ['A', 'B', 'C']\n",
    "print(list(itertools.combinations_with_replacement(z, 2)))"
   ]
  },
  {
   "cell_type": "markdown",
   "metadata": {},
   "source": [
    "### More Useful Iterators\n",
    "\n",
    "There are other iterators that stop at the end of the shorter of the two lists\n",
    "passed as arguments.  Some of them are described below. This is not an\n",
    "exhaustive list, and you can see the complete list here.\n",
    "\n",
    "#### `Accumulate()`\n",
    "\n",
    "Automatically creates an iterator that accumulates the result of a given\n",
    "operator or function and returns the result. You can choose an operator from\n",
    "Python’s operator  library or write your own customized operator."
   ]
  },
  {
   "cell_type": "code",
   "execution_count": 126,
   "metadata": {},
   "outputs": [
    {
     "name": "stdout",
     "output_type": "stream",
     "text": [
      "After mul operator [2, 6, 24, -144]\n",
      "After pow operator [2, 8, 4096, 2.117582368135751e-22]\n",
      "After customized my_operator [2, -1, -5, 1]\n"
     ]
    }
   ],
   "source": [
    "# Custom operator\n",
    "def my_operator(a, b):\n",
    "    return a+b if a>5 else a-b\n",
    "    \n",
    "x = [2, 3, 4, -6]\n",
    "mul_result = itertools.accumulate(x, operator.mul)\n",
    "print(\"After mul operator\", list(mul_result))\n",
    "pow_result = itertools.accumulate(x, operator.pow)\n",
    "print(\"After pow operator\", list(pow_result))\n",
    "my_operator_result = itertools.accumulate(x, my_operator)\n",
    "print(\"After customized my_operator\", list(my_operator_result))"
   ]
  },
  {
   "cell_type": "markdown",
   "metadata": {},
   "source": [
    "#### `Starmap()`\n",
    "\n",
    "Apply the same operator to pairs of items."
   ]
  },
  {
   "cell_type": "code",
   "execution_count": 127,
   "metadata": {},
   "outputs": [
    {
     "name": "stdout",
     "output_type": "stream",
     "text": [
      "Starmap add result:  [3, 4.5, 12, 110]\n",
      "Starmap mul result:  [8, 9, 8, -6]\n"
     ]
    }
   ],
   "source": [
    "pair_list = [(1, 2), (4, 0.5), (5, 7), (100, 10)]\n",
    "\n",
    "starmap_add_result = itertools.starmap(operator.add, pair_list)\n",
    "print(\"Starmap add result: \", list(starmap_add_result))\n",
    "\n",
    "x1 = [2, 3, 4, -6]\n",
    "x2 = [4, 3, 2, 1] \n",
    "\n",
    "starmap_mul_result = itertools.starmap(operator.mul, zip(x1, x2))\n",
    "print(\"Starmap mul result: \", list(starmap_mul_result))"
   ]
  },
  {
   "cell_type": "markdown",
   "metadata": {},
   "source": [
    "#### `filterfalse()`\n",
    "\n",
    "Filter out data based on a specific criterion."
   ]
  },
  {
   "cell_type": "code",
   "execution_count": 128,
   "metadata": {},
   "outputs": [
    {
     "name": "stdout",
     "output_type": "stream",
     "text": [
      "Even result: [2, 4, 6, 8, 10]\n",
      "Less than 5: [1, 2, 3, 4]\n"
     ]
    }
   ],
   "source": [
    "my_list = [1, 2, 3, 4, 5, 6, 7, 8, 9, 10]\n",
    "even_result = itertools.filterfalse(lambda x: x%2, my_list)\n",
    "small_terms = itertools.filterfalse(lambda x: x>=5, my_list)                               \n",
    "print('Even result:', list(even_result))\n",
    "print('Less than 5:', list(small_terms))"
   ]
  },
  {
   "cell_type": "markdown",
   "metadata": {},
   "source": [
    "## Functools in Python\n",
    "\n",
    "In most programming languages, passing functions as arguments or a function\n",
    "returning another function might be confusing or hard to work with. Python\n",
    "includes the functools library, making it easy to work with these functions.\n",
    "From Python’s official functools documentation:\n",
    "\n",
    "> The `functools` module is for higher-order functions: functions that act on or\n",
    "> return other functions. In general, any callable object can be treated as a\n",
    "> function\n",
    "\n",
    "Here we explain a few nice features of this library. You can look at the\n",
    "[complete list of functools functions here](https://docs.python.org/3/library/functools.html).\n",
    "\n",
    "### Using lru_cache\n",
    "\n",
    "In imperative programming languages, recursion is very expensive. Every time a\n",
    "function is invoked, it is evaluated, even if it is called with the same set of\n",
    "arguments. In Python, the lru_cache is a decorator that can be used to cache the\n",
    "results of function evaluations. When the function is invoked again with the\n",
    "same set of arguments, the stored result is used, avoiding the extra overhead\n",
    "related to recursion.\n",
    "\n",
    "Let’s look at the following example. We have the same implementation of the\n",
    "computation of the nth Fibonacci number with and without `lru_cache`. We can see\n",
    "that `fib(30)` has 31 function evaluations, just as we expect because of\n",
    "`lru_cache`. The `fib()` function is invoked only for n=0,1,2…30, and the result\n",
    "is stored in memory and used later. This is significantly less than\n",
    "`fib_slow(30)`, with 2692537 evaluations."
   ]
  },
  {
   "cell_type": "code",
   "execution_count": 129,
   "metadata": {},
   "outputs": [
    {
     "name": "stdout",
     "output_type": "stream",
     "text": [
      "With lru_cache total function evaluations:  31\n",
      "Without lru_cache total function evaluations:  2692537\n"
     ]
    }
   ],
   "source": [
    "import functools\n",
    "@functools.lru_cache\n",
    "def fib(n):\n",
    "    global count\n",
    "    count = count + 1\n",
    "    return fib(n-2) + fib(n-1) if n>1 else 1\n",
    "\n",
    "def fib_slow(n):\n",
    "    global slow_count\n",
    "    slow_count = slow_count + 1\n",
    "    return fib_slow(n-2) + fib_slow(n-1) if n>1 else 1\n",
    "\n",
    "count = 0\n",
    "slow_count = 0\n",
    "fib(30)\n",
    "fib_slow(30)\n",
    "\n",
    "print('With lru_cache total function evaluations: ', count)\n",
    "print('Without lru_cache total function evaluations: ', slow_count)"
   ]
  },
  {
   "cell_type": "markdown",
   "metadata": {},
   "source": [
    "It is worth noting that the `lru_cache` decorator is particularly useful when\n",
    "you’re experimenting with machine learning problems in Jupyter notebooks. If you\n",
    "have a function that downloads data from the Internet, wrapping it with\n",
    "`lru_cache` can keep your download in memory and avoid downloading the same file\n",
    "again even if you invoked the download function multiple times.\n",
    "\n",
    "#### Using `reduce()`\n",
    "\n",
    "Reduce is similar to the `itertools.accumulate()`. It applies a function\n",
    "repeatedly to the elements of a list and returns the result. Here are a few\n",
    "examples with comments to explain the working of this functions."
   ]
  },
  {
   "cell_type": "code",
   "execution_count": 130,
   "metadata": {},
   "outputs": [
    {
     "name": "stdout",
     "output_type": "stream",
     "text": [
      "10\n",
      "4096\n"
     ]
    }
   ],
   "source": [
    "# Evaluates ((1+2)+3)+4\n",
    "list_sum = functools.reduce(operator.add, [1, 2, 3, 4])\n",
    "print(list_sum)\n",
    "\n",
    "# Evaluates (2^3)^4\n",
    "list_pow = functools.reduce(operator.pow, [2, 3, 4])\n",
    "print(list_pow)"
   ]
  },
  {
   "cell_type": "markdown",
   "metadata": {},
   "source": [
    "The `reduce()` function can accept any “operators” and optionally an initial\n",
    "value. For example, the `collections.Counter` function in the previous example\n",
    "can be implemented as follows:"
   ]
  },
  {
   "cell_type": "code",
   "execution_count": 131,
   "metadata": {},
   "outputs": [
    {
     "name": "stdout",
     "output_type": "stream",
     "text": [
      "{'a': 3, 'b': 2, 'c': 2, 'd': 1}\n"
     ]
    }
   ],
   "source": [
    "import functools\n",
    "\n",
    "def addcount(counter, element):\n",
    "    if element not in counter:\n",
    "        counter[element] = 1\n",
    "    else:\n",
    "        counter[element] += 1\n",
    "    return counter\n",
    "\n",
    "items = [\"a\", \"b\", \"a\", \"c\", \"d\", \"c\", \"b\", \"a\"]\n",
    "\n",
    "counts = functools.reduce(addcount, items, {})\n",
    "print(counts)"
   ]
  },
  {
   "cell_type": "markdown",
   "metadata": {},
   "source": [
    "#### Using `partial()`\n",
    "\n",
    "There are situations when you have a function that takes multiple arguments, and some of its arguments are repeated again and again. The function `partial()` returns a new version of the same function with a reduced number of arguments.\n",
    "\n",
    "For example, if you have to compute the power of 2 repeatedly, you can create a new version of numpy’s power() function as shown below:\n"
   ]
  },
  {
   "cell_type": "code",
   "execution_count": 132,
   "metadata": {},
   "outputs": [
    {
     "name": "stdout",
     "output_type": "stream",
     "text": [
      "2^4 = 16\n",
      "2^6 = 64\n"
     ]
    }
   ],
   "source": [
    "import numpy as np\n",
    " \n",
    "power_2 = functools.partial(np.power, 2)\n",
    "print('2^4 =', power_2(4))\n",
    "print('2^6 =', power_2(6))"
   ]
  },
  {
   "cell_type": "markdown",
   "metadata": {},
   "source": [
    "### Map-Reduce Pattern\n",
    "\n",
    "In a previous section, we mentioned the filter, map, and reduce functions as\n",
    "high order functions. Using a map-reduce design pattern is indeed a way to help\n",
    "us easily make a highly scalable program. The map-reduce pattern is an abstract\n",
    "representation of many types of computations that manipulate lists or\n",
    "collections of objects. The map stage takes the input collection and maps it to\n",
    "an intermediate representation. The reduce step takes this intermediate\n",
    "representation and computes a single output from it. This design pattern is very\n",
    "popular in functional programming languages. Python also provides constructs to\n",
    "implement this design pattern in an efficient manner.\n",
    "\n",
    "#### Map-Reduce In Python\n",
    "\n",
    "As an illustration of the map-reduce design pattern, let’s take a simple\n",
    "example. Suppose we want to count the numbers divisible by 3 in a list. We’ll\n",
    "use lambda to define an anonymous function and use it to map() all items of a\n",
    "list to 1 or 0 depending upon whether they pass our divisibility test or not.\n",
    "The function map() takes as argument a function and an iterable. Next, we’ll use\n",
    "reduce() to accumulate the overall result."
   ]
  },
  {
   "cell_type": "code",
   "execution_count": 133,
   "metadata": {},
   "outputs": [
    {
     "name": "stdout",
     "output_type": "stream",
     "text": [
      "bool_list = [1, 0, 0, 1, 0, 0, 1, 0, 0, 1, 0, 0, 1, 0, 0, 1, 0, 0, 1, 0]\n",
      "Total items divisible by 3 =  7\n"
     ]
    }
   ],
   "source": [
    "# All numbers from 1 to 20\n",
    "input_list = list(range(20))\n",
    "# Use map to see which numbers are divisible by 3\n",
    "bool_list = map(lambda x: 1 if x%3==0 else 0, input_list)\n",
    "# Convert map object to list\n",
    "bool_list = list(bool_list)\n",
    "print('bool_list =', bool_list)\n",
    "\n",
    "total_divisible_3 = functools.reduce(operator.add, bool_list)\n",
    "print('Total items divisible by 3 = ', total_divisible_3)"
   ]
  },
  {
   "cell_type": "markdown",
   "metadata": {},
   "source": [
    "While being very simple, the previous example illustrates how easy it is to\n",
    "implement the map-reduce design pattern in Python. You can solve complex and\n",
    "lengthy problems using the surprisingly simple and easy constructs in Python.\n",
    "\n",
    "### Further Reading\n",
    "\n",
    "This section provides more resources on the topic if you are looking to go\n",
    "deeper.  \n",
    "\n",
    "#### Books\n",
    "\n",
    "*    [Think Python: How to Think Like a Computer Scientist](https://greenteapress.com/thinkpython/html/index.html) by Allen B. Downey\n",
    "*    [Programming in Python 3: A Complete Introduction to the Python Language](https://www.amazon.com/Programming-Python-Complete-Introduction-Language-ebook-dp-B001OFK2DK/dp/B001OFK2DK/ref=mt_other?_encoding=UTF8&me=&qid=1638910263) by Mark Summerfield\n",
    "*    [Python Programming: An Introduction to Computer Science](https://www.amazon.com/Python-Programming-Introduction-Computer-Science/dp/1590282418/ref=sr_1_1?s=books&ie=UTF8&qid=1441293398&sr=1-1&keywords=Python+Zelle&pebp=1441293404611&perid=1B2BP6WM3RQHW4CY6990) by John Zelle\n",
    "\n",
    "#### Python Official Documentation\n",
    "\n",
    "*    [Python documentation](https://docs.python.org/3/contents.html)\n",
    "\n",
    "### Summary\n",
    "\n",
    "In this tutorial, you discovered features of Python that support functional programming.\n",
    "\n",
    "Specifically, you learned:\n",
    "\n",
    "*    The iterables returning finite or infinite sequences in Python using itertools\n",
    "*    The higher-order functions supported by functools\n",
    "*    The map-reduce design pattern’s implementation in Python\n",
    "\n",
    "Do you have any questions about Python discussed in this post? Ask your\n",
    "questions in the comments below, and I will do my best to answer.\n"
   ]
  }
 ],
 "metadata": {
  "kernelspec": {
   "display_name": "Python 3.8.10 ('dl4cv')",
   "language": "python",
   "name": "python3"
  },
  "language_info": {
   "codemirror_mode": {
    "name": "ipython",
    "version": 3
   },
   "file_extension": ".py",
   "mimetype": "text/x-python",
   "name": "python",
   "nbconvert_exporter": "python",
   "pygments_lexer": "ipython3",
   "version": "3.8.10"
  },
  "orig_nbformat": 4,
  "vscode": {
   "interpreter": {
    "hash": "cd20b80f3abe9c1782c169f75cb3aaf4fed19688fa30b13c4021414b02823d14"
   }
  }
 },
 "nbformat": 4,
 "nbformat_minor": 2
}
