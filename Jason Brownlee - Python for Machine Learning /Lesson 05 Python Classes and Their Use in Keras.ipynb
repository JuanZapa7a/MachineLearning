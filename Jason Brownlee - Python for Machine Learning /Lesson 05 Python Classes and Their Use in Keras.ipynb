{
 "cells": [
  {
   "cell_type": "markdown",
   "metadata": {},
   "source": [
    "# Lesson 05: Python Classes and Their Use in Keras\n",
    "\n",
    "Classes are one of the fundamental building blocks of the Python language, which\n",
    "may be applied in the development of machine learning applications. As we shall\n",
    "see, the Python syntax for developing classes is simple and can be applied to\n",
    "implement callbacks in Keras. \n",
    "\n",
    "In this tutorial, you will discover the Python classes and their functionality. \n",
    "\n",
    "After completing this tutorial, you will know:\n",
    "\n",
    "* Why Python classes are important\n",
    "* How to define and instantiate a class and set its attributes \n",
    "* How to create methods and pass arguments\n",
    "* What is class inheritance\n",
    "* How to use classes to implement callbacks in Keras\n"
   ]
  },
  {
   "cell_type": "markdown",
   "metadata": {},
   "source": [
    "## Tutorial Overview\n",
    "\n",
    "This tutorial is divided into six parts; they are:\n",
    "\n",
    "* Introduction to Classes\n",
    "* Defining a Class\n",
    "* Instantiation and Attribute References\n",
    "* Creating Methods and Passing Arguments\n",
    "* Class Inheritance\n",
    "* Using Classes in Keras\n",
    "\n",
    "## Introduction to Classes\n",
    "\n",
    "In object-oriented languages, such as Python, classes are one of the fundamental\n",
    "building blocks.\n",
    "\n",
    "> They can be likened to blueprints for an object, as they define what properties and methods/behaviors an object should have.\n",
    "> \n",
    "> --- [Python Fundamentals](https://www.amazon.com/Python-Fundamentals-practical-learning-real-world-ebook/dp/B07K4CVYND/ref=sr_1_1?keywords=python+fundamentals+ebook&qid=1638986660&sr=8-1), 2018\n",
    "\n",
    "Creating a new class creates a new object, where every class instance can be\n",
    "characterized by its attributes to maintain its state and methods to modify its\n",
    "state.  \n",
    "\n",
    "## Defining a Class\n",
    "\n",
    "The class keyword allows for the creation of a new class definition, immediately\n",
    "followed by the class name:\n",
    "\n",
    "```python\n",
    "class MyClass:\n",
    "    <statements>\n",
    "```\n",
    "\n",
    "In this manner, a new class object bound to the specified class name\n",
    "(**MyClass**, in this case) is created. Each class object can support\n",
    "instantiation and attribute references, as we will see shortly.\n",
    "\n",
    "## Instantiation and Attribute References\n",
    "\n",
    "Instantiation is the creation of a new instance of a class.\n",
    "\n",
    "To create a new instance of a class, we can call it using its class name and\n",
    "assign it to a variable. This will create a new, empty class object:\n",
    "\n",
    "```python\n",
    "x = MyClass()\n",
    "```\n",
    "\n",
    "Upon creating a new instance of a class, Python calls its object constructor\n",
    "method, `__init()__`, which often takes arguments that are used to set the\n",
    "instantiated object’s attributes.\n",
    "\n",
    "> We can define this constructor method in our class just like a function and specify attributes that will need to be passed in when instantiating an object.\n",
    "> \n",
    "> ---[Python Fundamentals](https://www.amazon.com/Python-Fundamentals-practical-learning-real-world-ebook/dp/B07K4CVYND/ref=sr_1_1?keywords=python+fundamentals+ebook&qid=1638986660&sr=8-1), 2018\n",
    "\n",
    "Let’s say, for instance, that we would like to define a new class named **Dog**:"
   ]
  },
  {
   "cell_type": "code",
   "execution_count": 65,
   "metadata": {},
   "outputs": [],
   "source": [
    "class Dog:\n",
    "\tfamily = \"Canine\"\n",
    " \n",
    "\tdef __init__(self, name, breed):\n",
    "\t\tself.name = name\n",
    "\t\tself.breed = breed"
   ]
  },
  {
   "cell_type": "markdown",
   "metadata": {},
   "source": [
    "Here, the constructor method takes two arguments, name and breed, which can be\n",
    "passed to it upon instantiating the object:"
   ]
  },
  {
   "cell_type": "code",
   "execution_count": 66,
   "metadata": {},
   "outputs": [],
   "source": [
    "dog1 = Dog(\"Lassie\", \"Rough Collie\")"
   ]
  },
  {
   "cell_type": "markdown",
   "metadata": {},
   "source": [
    "In the example that we are considering, name and breed are known as instance\n",
    "variables (or attributes) because they are bound to a specific instance. This\n",
    "means that such attributes belong only to the object in which they have been set\n",
    "but not to any other object instantiated from the same class. \n",
    "\n",
    "On the other hand, family is a class variable (or attribute) because it is\n",
    "shared by all instances of the same class.\n",
    "\n",
    "You may also note that the first argument of the constructor method (or any\n",
    "other method) is often called self. This argument refers to the object that we\n",
    "are in the process of creating. It is good practice to follow the convention of\n",
    "setting the first argument to self to ensure the readability of your code for\n",
    "other programmers.\n",
    "\n",
    "Once we have set our object’s attributes, they can be accessed using the dot\n",
    "operator. For example, considering again the dog1 instance of the Dog class, its\n",
    "name attribute may be accessed as follows:"
   ]
  },
  {
   "cell_type": "code",
   "execution_count": 67,
   "metadata": {},
   "outputs": [
    {
     "name": "stdout",
     "output_type": "stream",
     "text": [
      "Lassie\n"
     ]
    }
   ],
   "source": [
    "print(dog1.name)"
   ]
  },
  {
   "cell_type": "markdown",
   "metadata": {},
   "source": [
    "## Creating Methods and Passing Arguments\n",
    "\n",
    "In addition to having a constructor method, a class object can also have several\n",
    "other methods for modifying its state. \n",
    "\n",
    ">    The syntax for defining an instance method is familiar. We pass the argument self … It is always the first argument of an instance method.\n",
    ">\n",
    ">    – [Python Fundamentals](https://www.amazon.com/Python-Fundamentals-practical-learning-real-world-ebook/dp/B07K4CVYND/ref=sr_1_1?keywords=python+fundamentals+ebook&qid=1638986660&sr=8-1), 2018.\n",
    "\n",
    "Similar to the constructor method, each instance method can take several\n",
    "arguments, with the first one being the argument self that lets us set and\n",
    "access the object’s attributes:"
   ]
  },
  {
   "cell_type": "code",
   "execution_count": 68,
   "metadata": {},
   "outputs": [],
   "source": [
    "class Dog:\n",
    "\tfamily = \"Canine\"\n",
    " \n",
    "\tdef __init__(self, name, breed):\n",
    "\t\tself.name = name\n",
    "\t\tself.breed = breed\n",
    " \n",
    "\tdef info(self):\n",
    "\t\tprint(self.name, \"is a female\", self.breed)"
   ]
  },
  {
   "cell_type": "markdown",
   "metadata": {},
   "source": [
    "Different methods of the same object can also use the self argument to call each\n",
    "other:"
   ]
  },
  {
   "cell_type": "code",
   "execution_count": 69,
   "metadata": {},
   "outputs": [],
   "source": [
    "class Dog:\n",
    "\tfamily = \"Canine\"\n",
    " \n",
    "\tdef __init__(self, name, breed):\n",
    "\t\tself.name = name\n",
    "\t\tself.breed = breed\n",
    "\t\tself.tricks = []\n",
    " \n",
    "\tdef add_tricks(self, x):\n",
    "\t\tself.tricks.append(x)\n",
    " \n",
    "\tdef info(self, x):\n",
    "\t\tself.add_tricks(x)\n",
    "\t\tprint(self.name, \"is a female\", self.breed, \"that\", self.tricks[0])"
   ]
  },
  {
   "cell_type": "markdown",
   "metadata": {},
   "source": [
    "An output string can then be generated as follows:"
   ]
  },
  {
   "cell_type": "code",
   "execution_count": 70,
   "metadata": {},
   "outputs": [
    {
     "name": "stdout",
     "output_type": "stream",
     "text": [
      "Lassie is a female Rough Collie that barks on command\n"
     ]
    }
   ],
   "source": [
    "dog1 = Dog(\"Lassie\", \"Rough Collie\")\n",
    "dog1.info(\"barks on command\")"
   ]
  },
  {
   "cell_type": "markdown",
   "metadata": {},
   "source": [
    "We find that, in doing so, the barks on command input is appended to the tricks\n",
    "list when the info() method calls the add_tricks() method. The following output\n",
    "is produced:\n",
    "\n",
    "## Class Inheritance\n",
    "\n",
    "Another feature that Python supports is class **inheritance**. \n",
    "\n",
    "Inheritance is a mechanism that allows a subclass (also known as a derived or child class) to access all attributes and methods of a superclass (also known as a base or parent class). \n",
    "\n",
    "The syntax for using a subclass is the following:\n",
    "\n",
    "```python\n",
    "class SubClass(BaseClass):\n",
    "    <statements>\n",
    "```\n",
    "\n",
    "It is also possible that a subclass inherits from multiple base classes, too. In\n",
    "this case, the syntax would be as follows:\n",
    "\n",
    "```python\n",
    "class SubClass(BaseClass1, BaseClass2, BaseClass3):\n",
    "    <statements>\n",
    "```\n",
    "\n",
    "Class attributes and methods are searched for in the base class and also in\n",
    "subsequent base classes in the case of multiple inheritances. \n",
    "\n",
    "Python further allows a method in a subclass to override another method in the\n",
    "base class that carries the same name. An overriding method in the subclass may\n",
    "be replacing the base class method or simply extending its capabilities. When an\n",
    "overriding subclass method is available, it is this method that is executed when\n",
    "called, rather than the method with the same name in the base class.\n",
    "\n",
    "## Using Classes in Keras\n",
    "\n",
    "A practical use of classes in Keras is to write one’s own callbacks. \n",
    "\n",
    "A callback is a powerful tool in Keras that allows us to look at our model’s\n",
    "behavior during the different stages of training, testing, and prediction. \n",
    "\n",
    "Indeed, we may pass a list of callbacks to any of the following:\n",
    "\n",
    "*    `keras.Model.fit()`\n",
    "*    `keras.Model.evaluate()`\n",
    "*    `keras.Model.predict()`\n",
    "\n",
    "The Keras API comes with several built-in callbacks. Nonetheless, we might wish\n",
    "to write our own, and for this purpose, we shall look at how to build a custom\n",
    "callback class. In order to do so, we can inherit several methods from the\n",
    "callback base class, which can provide us with information of when:\n",
    "\n",
    "*    Training, testing, and prediction starts and ends\n",
    "*    An epoch starts and ends\n",
    "*    A training, testing, and prediction batch starts and ends\n",
    "\n",
    "Let’s first consider a simple example of a custom callback that reports back\n",
    "every time that an epoch starts and ends. We will name this custom callback\n",
    "class, `EpochCallback`, and override the epoch-level methods, `on_epoch_begin()`\n",
    "and `on_epoch_end()`, from the base class, `keras.callbacks.Callback`:"
   ]
  },
  {
   "cell_type": "code",
   "execution_count": 71,
   "metadata": {},
   "outputs": [],
   "source": [
    "import tensorflow.keras as keras\n",
    " \n",
    "class EpochCallback(keras.callbacks.Callback):\n",
    "    def on_epoch_begin(self, epoch, logs=None):\n",
    "        print(\"Starting epoch {}\".format(epoch + 1))\n",
    " \n",
    "    def on_epoch_end(self, epoch, logs=None):\n",
    "        print(\"Finished epoch {}\".format(epoch + 1))"
   ]
  },
  {
   "cell_type": "markdown",
   "metadata": {},
   "source": [
    "In order to test the custom callback that we have just defined, we need a model to train. For this purpose, let’s define a simple Keras model:"
   ]
  },
  {
   "cell_type": "code",
   "execution_count": 72,
   "metadata": {},
   "outputs": [],
   "source": [
    "from tensorflow.keras.models import Sequential\n",
    "from tensorflow.keras.layers import Dense, Flatten\n",
    " \n",
    "def simple_model():\n",
    "    model = Sequential()\n",
    "    model.add(Flatten(input_shape=(28, 28)))\n",
    "    model.add(Dense(128, activation=\"relu\"))\n",
    "    model.add(Dense(10, activation=\"softmax\"))\n",
    " \n",
    "    model.compile(loss=\"categorical_crossentropy\",\n",
    "                  optimizer=\"sgd\",\n",
    "                  metrics=[\"accuracy\"])\n",
    "    return model"
   ]
  },
  {
   "cell_type": "markdown",
   "metadata": {},
   "source": [
    "We also need a dataset to train on, for which purpose we will be using the MNIST\n",
    "dataset:"
   ]
  },
  {
   "cell_type": "code",
   "execution_count": 73,
   "metadata": {},
   "outputs": [],
   "source": [
    "from tensorflow.keras.datasets import mnist\n",
    "from tensorflow.keras.utils import to_categorical\n",
    " \n",
    "# Loading the MNIST training and testing data splits\n",
    "(x_train, y_train), (x_test, y_test) = mnist.load_data()\n",
    " \n",
    "# Pre-processing the training data\n",
    "x_train = x_train / 255.0\n",
    "x_train = x_train.reshape(60000, 28, 28, 1)\n",
    "y_train_cat = to_categorical(y_train, 10)"
   ]
  },
  {
   "cell_type": "markdown",
   "metadata": {},
   "source": [
    "Now, let’s try out the custom callback by adding it to the list of callbacks\n",
    "that we pass as input to the keras.Model.fit() method:"
   ]
  },
  {
   "cell_type": "code",
   "execution_count": 74,
   "metadata": {},
   "outputs": [
    {
     "name": "stdout",
     "output_type": "stream",
     "text": [
      "Starting epoch 1\n",
      "Finished epoch 1\n",
      "Starting epoch 2\n",
      "Finished epoch 2\n",
      "Starting epoch 3\n",
      "Finished epoch 3\n",
      "Starting epoch 4\n",
      "Finished epoch 4\n",
      "Starting epoch 5\n",
      "Finished epoch 5\n"
     ]
    },
    {
     "data": {
      "text/plain": [
       "<keras.callbacks.History at 0x7f5576af5d30>"
      ]
     },
     "execution_count": 74,
     "metadata": {},
     "output_type": "execute_result"
    }
   ],
   "source": [
    "model = simple_model()\n",
    " \n",
    "model.fit(x_train,\n",
    "          y_train_cat,\n",
    "          batch_size=32,\n",
    "          epochs=5,\n",
    "          callbacks=[EpochCallback()],\n",
    "          verbose=0)"
   ]
  },
  {
   "cell_type": "markdown",
   "metadata": {},
   "source": [
    "We can create another custom callback that monitors the loss value at the end of\n",
    "each epoch and stores the model weights only if the loss has decreased. To this\n",
    "end, we will be reading the loss value from the log dict, which stores the\n",
    "metrics at the end of each batch and epoch. We will also be accessing the model\n",
    "corresponding to the current round of training, testing, or prediction, by means\n",
    "of self.model. \n",
    "\n",
    "Let’s call this custom callback, `CheckpointCallback`:"
   ]
  },
  {
   "cell_type": "code",
   "execution_count": 75,
   "metadata": {},
   "outputs": [],
   "source": [
    "import numpy as np\n",
    " \n",
    "class CheckpointCallback(keras.callbacks.Callback):\n",
    " \n",
    "    def __init__(self):\n",
    "        super(CheckpointCallback, self).__init__()\n",
    "        self.best_weights = None\n",
    " \n",
    "    def on_train_begin(self, logs=None):\n",
    "        self.best_loss = np.Inf\n",
    " \n",
    "    def on_epoch_end(self, epoch, logs=None):\n",
    "        current_loss = logs.get(\"loss\")\n",
    "        print(\"Current loss is {}\".format(current_loss))\n",
    "        if np.less(current_loss, self.best_loss):\n",
    "            self.best_loss = current_loss\n",
    "            self.best_weights = self.model.get_weights()\n",
    "            print(\"Storing the model weights at epoch {} \\n\".format(epoch + 1))"
   ]
  },
  {
   "cell_type": "markdown",
   "metadata": {},
   "source": [
    "We can try this out again, this time including the `CheckpointCallback` into the\n",
    "list of callbacks:"
   ]
  },
  {
   "cell_type": "code",
   "execution_count": 76,
   "metadata": {},
   "outputs": [
    {
     "name": "stdout",
     "output_type": "stream",
     "text": [
      "Starting epoch 1\n",
      "Finished epoch 1\n",
      "Current loss is 0.6541921496391296\n",
      "Storing the model weights at epoch 1 \n",
      "\n",
      "Starting epoch 2\n",
      "Finished epoch 2\n",
      "Current loss is 0.3366362452507019\n",
      "Storing the model weights at epoch 2 \n",
      "\n",
      "Starting epoch 3\n",
      "Finished epoch 3\n",
      "Current loss is 0.2892349362373352\n",
      "Storing the model weights at epoch 3 \n",
      "\n",
      "Starting epoch 4\n",
      "Finished epoch 4\n",
      "Current loss is 0.25957149267196655\n",
      "Storing the model weights at epoch 4 \n",
      "\n",
      "Starting epoch 5\n",
      "Finished epoch 5\n",
      "Current loss is 0.23683258891105652\n",
      "Storing the model weights at epoch 5 \n",
      "\n"
     ]
    },
    {
     "data": {
      "text/plain": [
       "<keras.callbacks.History at 0x7f5576a46730>"
      ]
     },
     "execution_count": 76,
     "metadata": {},
     "output_type": "execute_result"
    }
   ],
   "source": [
    "model = simple_model()\n",
    " \n",
    "model.fit(x_train,\n",
    "          y_train_cat,\n",
    "          batch_size=32,\n",
    "          epochs=5,\n",
    "          callbacks=[EpochCallback(), CheckpointCallback()],\n",
    "          verbose=0)"
   ]
  },
  {
   "cell_type": "markdown",
   "metadata": {},
   "source": [
    "## Other classes in Keras\n",
    "\n",
    "Besides callbacks, we can also make derived classes in Keras for custom metrics\n",
    "(derived from keras.metrics.Metrics), custom layers (derived from\n",
    "keras.layers.Layer), custom regularizer (derived from\n",
    "keras.regularizers.Regularizer), or even custom models (derived from\n",
    "keras.Model, for such as changing the behavior of invoking a model). All you\n",
    "have to do is follow the guideline to change the member functions of a class.\n",
    "You must use exactly the same name and parameters in the member functions.\n",
    "\n",
    "Below is an example from Keras documentation:"
   ]
  },
  {
   "cell_type": "code",
   "execution_count": 77,
   "metadata": {},
   "outputs": [
    {
     "name": "stdout",
     "output_type": "stream",
     "text": [
      "Intermediate result: 1.0\n",
      "Final result: 3.0\n"
     ]
    }
   ],
   "source": [
    "import tensorflow as tf\n",
    "\n",
    "class BinaryTruePositives(tf.keras.metrics.Metric):\n",
    " \n",
    "  def __init__(self, name='binary_true_positives', **kwargs):\n",
    "    super(BinaryTruePositives, self).__init__(name=name, **kwargs)\n",
    "    self.true_positives = self.add_weight(name='tp', initializer='zeros')\n",
    " \n",
    "  def update_state(self, y_true, y_pred, sample_weight=None):\n",
    "    y_true = tf.cast(y_true, tf.bool)\n",
    "    y_pred = tf.cast(y_pred, tf.bool)\n",
    " \n",
    "    values = tf.logical_and(tf.equal(y_true, True), tf.equal(y_pred, True))\n",
    "    values = tf.cast(values, self.dtype)\n",
    "    if sample_weight is not None:\n",
    "      sample_weight = tf.cast(sample_weight, self.dtype)\n",
    "      values = tf.multiply(values, sample_weight)\n",
    "    self.true_positives.assign_add(tf.reduce_sum(values))\n",
    " \n",
    "  def result(self):\n",
    "    return self.true_positives\n",
    " \n",
    "  def reset_states(self):\n",
    "    self.true_positives.assign(0)\n",
    " \n",
    "m = BinaryTruePositives()\n",
    "m.update_state([0, 1, 1, 1], [0, 1, 0, 0])\n",
    "print('Intermediate result:', float(m.result()))\n",
    " \n",
    "m.update_state([1, 1, 1, 1], [0, 1, 1, 0])\n",
    "print('Final result:', float(m.result()))"
   ]
  },
  {
   "cell_type": "markdown",
   "metadata": {},
   "source": [
    "This reveals why we would need a class for the custom metric: A metric is not\n",
    "just a function but a function that computes its value incrementally, once per\n",
    "batch of training data during the training cycle. Eventually, the result is\n",
    "reported at the `result()` function at the end of an epoch and reset its memory\n",
    "using the `reset_state()` function so you can start afresh in the next epoch.\n",
    "\n",
    "For the details on what exactly has to be derived, you should refer to Keras’\n",
    "documentation.\n",
    "\n",
    "## Further Reading\n",
    "\n",
    "This section provides more resources on the topic if you are looking to go deeper.\n",
    "\n",
    "### Books\n",
    "\n",
    "*   [Python Fundamentals](https://www.amazon.com/Python-Fundamentals-practical-learning-real-world-ebook/dp/B07K4CVYND/ref=sr_1_1?keywords=python+fundamentals+ebook&qid=1638986660&sr=8-1), 2018.\n",
    "\n",
    "### Websites\n",
    "\n",
    "*    Python classes, https://docs.python.org/3/tutorial/classes.html\n",
    "*    Creating custom callback in Keras, https://www.tensorflow.org/guide/keras/custom_callback\n",
    "*    Creating custom metrics in Keras, https://keras.io/api/metrics/#creating-custom-metrics\n",
    "*    Making new layers and models via subclassing, https://keras.io/guides/making_new_layers_and_models_via_subclassing/\n",
    "\n",
    "## Summary\n",
    "\n",
    "In this tutorial, you discovered Python classes and their functionality.\n",
    "\n",
    "Specifically, you learned:\n",
    "\n",
    "*    Why Python classes are important\n",
    "*    How to define and instantiate a class and set its attributes \n",
    "*    How to create methods and pass arguments\n",
    "*    What is class inheritance\n",
    "*    How to use classes to implement callbacks in Keras\n"
   ]
  }
 ],
 "metadata": {
  "kernelspec": {
   "display_name": "Python 3.8.10 ('dl4cv')",
   "language": "python",
   "name": "python3"
  },
  "language_info": {
   "codemirror_mode": {
    "name": "ipython",
    "version": 3
   },
   "file_extension": ".py",
   "mimetype": "text/x-python",
   "name": "python",
   "nbconvert_exporter": "python",
   "pygments_lexer": "ipython3",
   "version": "3.8.10"
  },
  "orig_nbformat": 4,
  "vscode": {
   "interpreter": {
    "hash": "cd20b80f3abe9c1782c169f75cb3aaf4fed19688fa30b13c4021414b02823d14"
   }
  }
 },
 "nbformat": 4,
 "nbformat_minor": 2
}
